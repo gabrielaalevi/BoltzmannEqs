{
 "cells": [
  {
   "cell_type": "code",
   "execution_count": 10,
   "metadata": {},
   "outputs": [
    {
     "name": "stdout",
     "output_type": "stream",
     "text": [
      "52\n",
      "1\n"
     ]
    }
   ],
   "source": [
    "import pyslha\n",
    "\n",
    "d = pyslha.read(r\"C:\\Users\\Gabi\\Downloads\\Faculdade\\Diss\\Code with MADDM\\param_card.dat\")\n",
    "decay = d.decays[1000002].decays\n",
    "decay1 = decay[0].nda\n",
    "print(decay[0].ids[1])\n",
    "print(len(decay))"
   ]
  },
  {
   "cell_type": "code",
   "execution_count": 2,
   "metadata": {},
   "outputs": [
    {
     "name": "stdout",
     "output_type": "stream",
     "text": [
      "1\n"
     ]
    }
   ],
   "source": [
    "import pandas as pd\n",
    "\n",
    "data = pd.read_csv(\"taacs.csv\")\n",
    "process_data = pd.read_csv(\"processes_taacs.csv\", header=None)\n",
    "a = data.iloc[:, 1]\n",
    "b = process_data.iloc[0, 0]\n",
    "print(b)"
   ]
  },
  {
   "cell_type": "code",
   "execution_count": 85,
   "metadata": {},
   "outputs": [
    {
     "name": "stdout",
     "output_type": "stream",
     "text": [
      "5\n"
     ]
    }
   ],
   "source": [
    "a = (1,5,3)\n",
    "b = [[1, a, [1,2,3,4,5,6]],\n",
    "     [2, a, [7,8,9,10,11]]]\n",
    "print(b[0][1][1])"
   ]
  },
  {
   "cell_type": "code",
   "execution_count": 9,
   "metadata": {},
   "outputs": [
    {
     "name": "stdout",
     "output_type": "stream",
     "text": [
      "1\n"
     ]
    }
   ],
   "source": [
    "a = 'ul'\n",
    "b = 'ululx_xdxdx'\n",
    "if a in b:\n",
    "    print(1)"
   ]
  },
  {
   "cell_type": "code",
   "execution_count": 11,
   "metadata": {},
   "outputs": [
    {
     "name": "stdout",
     "output_type": "stream",
     "text": [
      "2\n"
     ]
    }
   ],
   "source": [
    "a = list()\n",
    "a.append(1)\n",
    "a.append(2)\n",
    "print(a[1])"
   ]
  },
  {
   "cell_type": "code",
   "execution_count": 4,
   "metadata": {},
   "outputs": [
    {
     "name": "stdout",
     "output_type": "stream",
     "text": [
      "2.5868276880112816e-14\n",
      "1.6133023586793205e-08\n"
     ]
    }
   ],
   "source": [
    "from inputParameters import pnames\n",
    "from modelParameters import x, comp_names\n",
    "from sigmaV import find_processes_col\n",
    "\n",
    "for p in range(0, len(comp_names)):\n",
    "    comp = comp_names[p]\n",
    "    print(comp.collisions[0][2][0])"
   ]
  },
  {
   "cell_type": "code",
   "execution_count": 4,
   "metadata": {},
   "outputs": [
    {
     "name": "stdout",
     "output_type": "stream",
     "text": [
      "[[1.         1.         1.         1.00000046 1.00045711 1.33333333]\n",
      " [1.         1.         1.         1.         1.00003809 1.25      ]]\n",
      "1.25\n"
     ]
    }
   ],
   "source": [
    "from scipy.integrate import solve_ivp\n",
    "import numpy as np\n",
    "\n",
    "def func(x, y):\n",
    "    dydx = np.zeros(2)\n",
    "    dydx[0] = x**2\n",
    "    dydx[1] = x**3\n",
    "    return dydx\n",
    "\n",
    "sol = solve_ivp(func, [0,1], [1,1])\n",
    "print(sol.y)\n",
    "print(sol.y[1][-1])"
   ]
  },
  {
   "cell_type": "code",
   "execution_count": 3,
   "metadata": {},
   "outputs": [
    {
     "name": "stdout",
     "output_type": "stream",
     "text": [
      "568610.2220414211\n"
     ]
    }
   ],
   "source": [
    "from auxFunc import entropydensity\n",
    "\n",
    "mDM = 1300\n",
    "x = mDM/13\n",
    "s = entropydensity(x, mDM)\n",
    "y = 2.174 * 10**(-8)\n",
    "rho_c = 4.79 * 10**(-6)\n",
    "omegah2 = (s * mDM * y)/rho_c\n",
    "print(omegah2)\n"
   ]
  },
  {
   "cell_type": "code",
   "execution_count": null,
   "metadata": {},
   "outputs": [],
   "source": []
  }
 ],
 "metadata": {
  "kernelspec": {
   "display_name": "Python 3",
   "language": "python",
   "name": "python3"
  },
  "language_info": {
   "codemirror_mode": {
    "name": "ipython",
    "version": 3
   },
   "file_extension": ".py",
   "mimetype": "text/x-python",
   "name": "python",
   "nbconvert_exporter": "python",
   "pygments_lexer": "ipython3",
   "version": "3.12.5"
  }
 },
 "nbformat": 4,
 "nbformat_minor": 2
}
