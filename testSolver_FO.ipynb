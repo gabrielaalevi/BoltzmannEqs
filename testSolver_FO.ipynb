{
 "cells": [
  {
   "cell_type": "code",
   "execution_count": 1,
   "metadata": {},
   "outputs": [],
   "source": [
    "from modelData import ModelData\n",
    "from boltz.boltzmannEq import dYdx, computeCollisionTerms,computeDecayTerms\n",
    "from scipy.integrate import solve_ivp,odeint\n",
    "import numpy as np\n",
    "from matplotlib import pyplot as plt\n",
    "from tools.configParserWrapper import ConfigParserExt\n",
    "import os\n",
    "from tools.logger import setLogLevel"
   ]
  },
  {
   "cell_type": "markdown",
   "metadata": {},
   "source": [
    "### Load input parameters"
   ]
  },
  {
   "cell_type": "code",
   "execution_count": 2,
   "metadata": {},
   "outputs": [],
   "source": [
    "parfile = './input_parameters_FO.ini'\n",
    "parser = ConfigParserExt(inline_comment_prefixes=\"#\")   \n",
    "ret = parser.read(parfile)\n",
    "parser = parser.expandLoops()[0]\n",
    "parserDict = parser.toDict(raw=False)"
   ]
  },
  {
   "cell_type": "code",
   "execution_count": 3,
   "metadata": {},
   "outputs": [],
   "source": [
    "pars = parser['SolverParameters']\n",
    "atol = pars['atol']\n",
    "rtol = pars['rtol']\n",
    "T0 = pars['T0']\n",
    "Tf = pars['Tf']\n",
    "method = pars['method']\n",
    "nsteps = pars['nsteps']\n",
    "outputFolder = os.path.abspath(parser['Options']['outputFolder'])\n",
    "paramCard = os.path.join(outputFolder,'Cards','param_card.dat')\n",
    "sigmaVFile = os.path.join(outputFolder,'output','taacs.csv')\n",
    "dm = parser['Model']['darkmatter']\n",
    "bsmList = []\n",
    "if 'bsmParticles' in parser['Model']:\n",
    "    bsmList = str(parser['Model']['bsmParticles']).split(',')\n",
    "model = ModelData(dmPDG=dm, bsmPDGList=bsmList, paramCard=paramCard, sigmaVfile=sigmaVFile)\n",
    "    \n",
    "\n",
    "compDict = model.componentsDict\n",
    "mDM = compDict[model.dmPDG].mass\n",
    "x0 = mDM/T0\n",
    "xf = mDM/Tf    \n"
   ]
  },
  {
   "cell_type": "code",
   "execution_count": 4,
   "metadata": {},
   "outputs": [],
   "source": [
    "# Set initila conditions\n",
    "y0 = np.array([comp.Yeq(T0) for comp in compDict.values()])    \n",
    "if 'initialConditions' in pars:\n",
    "    # Set initila conditions\n",
    "    initialCond = pars['initialConditions']    \n",
    "    for label,comp_y0 in initialCond.items():\n",
    "        pdg = model.convert2PDG(label)\n",
    "        comp = compDict[pdg]            \n",
    "        if isinstance(comp_y0,float):\n",
    "            y0[comp.ID] = y0\n",
    "        elif comp_y0.lower() in ['eq', 'equilibrium']:\n",
    "            continue # Already set\n"
   ]
  },
  {
   "cell_type": "code",
   "execution_count": 5,
   "metadata": {},
   "outputs": [],
   "source": [
    "# Initial conditions\n",
    "x0, xf = 0.1,100.0\n",
    "setLogLevel('info')"
   ]
  },
  {
   "cell_type": "markdown",
   "metadata": {},
   "source": [
    "### Check terms in initial conditions"
   ]
  },
  {
   "cell_type": "code",
   "execution_count": 6,
   "metadata": {},
   "outputs": [
    {
     "name": "stdout",
     "output_type": "stream",
     "text": [
      "SM 0.2776566338315371 0.27765663383153705\n",
      "xd 0.007802996735312518 0.007802996735312518\n"
     ]
    }
   ],
   "source": [
    "for comp in compDict.values():\n",
    "    print(comp,y0[comp.ID],comp.Yeq(mDM/x0))"
   ]
  },
  {
   "cell_type": "code",
   "execution_count": 7,
   "metadata": {},
   "outputs": [
    {
     "name": "stdout",
     "output_type": "stream",
     "text": [
      "[{}, {'xdxdx_ddx': 3.0267967740779398e-33, 'xdxdx_uux': 3.0267967740779398e-33, 'xdxdx_ssx': 3.0267967740779398e-33, 'xdxdx_ccx': 3.0267967740779398e-33, 'xdxdx_bbx': 3.0267967740779398e-33, 'xdxdx_ttx': 3.0267967740779398e-33}]\n",
      "[[0. 0.]\n",
      " [0. 0.]]\n"
     ]
    }
   ],
   "source": [
    "coll = computeCollisionTerms(x0,y0,model)\n",
    "dec = computeDecayTerms(x0,y0,model)\n",
    "print(coll)\n",
    "print(dec)"
   ]
  },
  {
   "cell_type": "code",
   "execution_count": 8,
   "metadata": {},
   "outputs": [
    {
     "name": "stdout",
     "output_type": "stream",
     "text": [
      "Process xdxdx_ddx : sigmav = 1.1166909090909085e-13\n",
      "Process xdxdx_uux : sigmav = 1.1166909090909085e-13\n",
      "Process xdxdx_ssx : sigmav = 1.1166909090909085e-13\n",
      "Process xdxdx_ccx : sigmav = 1.1166909090909085e-13\n",
      "Process xdxdx_bbx : sigmav = 1.1166909090909085e-13\n",
      "Process xdxdx_ttx : sigmav = 1.1166909090909085e-13\n"
     ]
    }
   ],
   "source": [
    "for process in model.collisionProcesses:\n",
    "    sigma = process.sigmaV(x0)\n",
    "    print(f'Process {process.name} : sigmav = {sigma}')"
   ]
  },
  {
   "cell_type": "code",
   "execution_count": 9,
   "metadata": {},
   "outputs": [
    {
     "name": "stdout",
     "output_type": "stream",
     "text": [
      "[0.00000000e+00 3.86706736e-09]\n"
     ]
    }
   ],
   "source": [
    "print(dYdx(x0,y0,model))"
   ]
  },
  {
   "cell_type": "markdown",
   "metadata": {},
   "source": [
    "### Solve equations"
   ]
  },
  {
   "cell_type": "code",
   "execution_count": 10,
   "metadata": {},
   "outputs": [],
   "source": [
    "# Run solve once\n",
    "sol = solve_ivp(dYdx, [x0,xf], y0, args=(model,), atol = atol, rtol = rtol, method='BDF')\n",
    "# sol = solve_ivp(boltz, [x0,xf], y0, args=(model,), atol = atol, rtol = rtol, method='LSODA', max_step = 0.01)\n"
   ]
  },
  {
   "cell_type": "code",
   "execution_count": 11,
   "metadata": {},
   "outputs": [],
   "source": [
    "# xvals = np.linspace(x0,xf,100)\n",
    "# #solving the Boltzmann equation\n",
    "setLogLevel('info')\n",
    "# Yf_sol = [y0]\n",
    "# xi = x0\n",
    "# yi = y0[:]\n",
    "# for x in xvals[1:]:\n",
    "#     yi = solve_ivp(boltz, [xi,x], yi, args=(model,), atol = atol, rtol = rtol, method='BDF').y[:,-1]\n",
    "#     Yf_sol.append(yi)\n",
    "#     xi = x\n",
    "# Yf_sol = np.array(Yf_sol).transpose()\n",
    "\n",
    "# # from scipy import integrate\n",
    "# # ode15s = integrate.ode(boltz)\n",
    "# # ode15s.set_integrator('vode', method='bdf', order=15)\n",
    "# # ode15s.set_initial_value(y0, x0)\n",
    "# # ode15s.set_f_params(model)\n",
    "\n",
    "# # Yf_sol = [y0]\n",
    "\n",
    "# # for x in xvals[1:]:\n",
    "# #     print(x)\n",
    "# #     Yf_sol.append(ode15s.integrate(x))\n",
    "# # Yf_sol = np.array(Yf_sol).transpose()"
   ]
  },
  {
   "cell_type": "code",
   "execution_count": 12,
   "metadata": {},
   "outputs": [],
   "source": [
    "# Yf_sol.shape"
   ]
  },
  {
   "cell_type": "code",
   "execution_count": 13,
   "metadata": {},
   "outputs": [
    {
     "data": {
      "text/plain": [
       "  message: The solver successfully reached the end of the integration interval.\n",
       "  success: True\n",
       "   status: 0\n",
       "        t: [ 1.000e-01  1.202e-01 ...  9.080e+01  1.000e+02]\n",
       "        y: [[ 2.777e-01  2.777e-01 ...  2.777e-01  2.777e-01]\n",
       "            [ 7.803e-03  7.803e-03 ...  1.749e-10  1.704e-10]]\n",
       "      sol: None\n",
       " t_events: None\n",
       " y_events: None\n",
       "     nfev: 663\n",
       "     njev: 66\n",
       "      nlu: 148"
      ]
     },
     "execution_count": 13,
     "metadata": {},
     "output_type": "execute_result"
    }
   ],
   "source": [
    "sol"
   ]
  },
  {
   "cell_type": "code",
   "execution_count": 21,
   "metadata": {},
   "outputs": [
    {
     "data": {
      "image/png": "[encoded data removed]",
      "text/plain": [
       "<Figure size 640x480 with 1 Axes>"
      ]
     },
     "metadata": {},
     "output_type": "display_data"
    }
   ],
   "source": [
    "Tvals = mDM/sol.t\n",
    "for comp in compDict.values():\n",
    "    if comp.ID == 0: continue\n",
    "    plt.plot(sol.t,sol.y[comp.ID,:],label=f'Y({comp.label})')\n",
    "    # plt.plot(xvals,Yf_sol[comp.ID,:],label=f'Y({comp.label})', marker='o')\n",
    "    Yeq = [comp.Yeq(t) for t in Tvals]        \n",
    "    plt.plot(sol.t,Yeq,label=f'Yeq({comp.label})', linestyle='dashed')\n",
    "\n",
    "plt.legend()\n",
    "plt.yscale('log')\n",
    "plt.xscale('log')\n",
    "# plt.ylim(1e-10,1e-1)\n",
    "# plt.ylim(1e-4,10)\n",
    "plt.grid()\n",
    "# plt.title(r'$Y_{f} = $%1.3e (from dYdx), %1.3e (from dGdx)' %(Y_sol0[-1][0],Y_sol[-1][0]))\n",
    "plt.show()"
   ]
  },
  {
   "cell_type": "code",
   "execution_count": 16,
   "metadata": {},
   "outputs": [
    {
     "data": {
      "image/png": "[encoded data removed]",
      "text/plain": [
       "<Figure size 640x480 with 1 Axes>"
      ]
     },
     "metadata": {},
     "output_type": "display_data"
    }
   ],
   "source": [
    "sigmaV = np.array([sum([process.sigmaV(t) for process in model.collisionProcesses]) for t in Tvals])\n",
    "sigmaV = 1e-2*sigmaV/np.mean(sigmaV)\n",
    "dY = np.array([dYdx(x,sol.y[:,i],model) for i,x in enumerate(sol.t)]).transpose()\n",
    "for comp in compDict.values():\n",
    "    if comp.ID == 0: continue\n",
    "    # plt.plot(sol.t,sol.y[comp.ID,:],label=f'Y({comp.label})')\n",
    "    # plt.plot(xvals,Yf_sol[comp.ID,:],label=f'Y({comp.label})', marker='o')\n",
    "    # Yeq = [comp.Yeq(t) for t in Tvals]        \n",
    "    plt.plot(sol.t,-dY[comp.ID,:],label=f'dY({comp.label})', marker='o')\n",
    "    plt.plot(sol.t,sigmaV,label=f'sigmaV', marker='o')\n",
    "plt.vlines(x=0.7,ymin=-0.01,ymax=0.02,colors='gray')\n",
    "plt.legend()\n",
    "plt.yscale('log')\n",
    "plt.xscale('log')\n",
    "plt.xlim(0.1,0.2)\n",
    "# plt.ylim(1e-10,1e-1)\n",
    "# plt.ylim(1e-8,1e8)\n",
    "plt.grid()\n",
    "# plt.title(r'$Y_{f} = $%1.3e (from dYdx), %1.3e (from dGdx)' %(Y_sol0[-1][0],Y_sol[-1][0]))\n",
    "plt.show()"
   ]
  },
  {
   "cell_type": "code",
   "execution_count": 17,
   "metadata": {},
   "outputs": [
    {
     "data": {
      "text/plain": [
       "[{},\n",
       " {'xdxdx_ddx': 6.743101747743315e-20,\n",
       "  'xdxdx_uux': 6.743101747743315e-20,\n",
       "  'xdxdx_ssx': 6.743101747743315e-20,\n",
       "  'xdxdx_ccx': 6.743101747743315e-20,\n",
       "  'xdxdx_bbx': 6.743101747743315e-20,\n",
       "  'xdxdx_ttx': 6.743101747743315e-20}]"
      ]
     },
     "execution_count": 17,
     "metadata": {},
     "output_type": "execute_result"
    }
   ],
   "source": [
    "xv =  0.5581856186818792\n",
    "yv = [2.780e-01,7.80e-03]\n",
    "computeCollisionTerms(xv,yv,model)"
   ]
  },
  {
   "cell_type": "code",
   "execution_count": 18,
   "metadata": {},
   "outputs": [
    {
     "name": "stderr",
     "output_type": "stream",
     "text": [
      "DEBUG in boltzmannEq.dYdx() in 124: x = 1.00e-01, Decay = -0.000e+00, Injection = 0.000e+00 and Collision = 4.540e-33\n",
      "DEBUG in boltzmannEq.dYdx() in 128: Result: x = 1.00e-01, Y = 2.78e-01,7.80e-03, dY = 0.00e+00,3.87e-09\n",
      "\n",
      "DEBUG in boltzmannEq.dYdx() in 124: x = 1.20e-01, Decay = -0.000e+00, Injection = 0.000e+00 and Collision = -5.382e-26\n",
      "DEBUG in boltzmannEq.dYdx() in 128: Result: x = 1.20e-01, Y = 2.78e-01,7.80e-03, dY = 0.00e+00,-3.17e-02\n",
      "\n",
      "DEBUG in boltzmannEq.dYdx() in 124: x = 1.40e-01, Decay = -0.000e+00, Injection = 0.000e+00 and Collision = -1.877e-26\n",
      "DEBUG in boltzmannEq.dYdx() in 128: Result: x = 1.40e-01, Y = 2.78e-01,7.80e-03, dY = 0.00e+00,-8.10e-03\n",
      "\n"
     ]
    },
    {
     "name": "stdout",
     "output_type": "stream",
     "text": [
      "0.007802996735312518\n",
      "[0.00000000e+00 3.86706736e-09]\n",
      "\n",
      "\n",
      "0.007802996740030538\n",
      "[ 0.         -0.03170373]\n",
      "\n",
      "\n",
      "0.007802996736831328\n",
      "[ 0.         -0.00809974]\n",
      "\n",
      "\n"
     ]
    }
   ],
   "source": [
    "setLogLevel('debug')\n",
    "for i,x in enumerate(sol.t[:3]):\n",
    "    print(sol.y[1,i])\n",
    "    print(dYdx(x,sol.y[:,i],model))\n",
    "    print('\\n')"
   ]
  },
  {
   "cell_type": "code",
   "execution_count": 19,
   "metadata": {},
   "outputs": [
    {
     "name": "stderr",
     "output_type": "stream",
     "text": [
      "DEBUG in boltzmannEq.dYdx() in 124: x = 1.00e-01, Decay = -0.000e+00, Injection = 0.000e+00 and Collision = 4.540e-33\n",
      "DEBUG in boltzmannEq.dYdx() in 128: Result: x = 1.00e-01, Y = 2.78e-01,7.80e-03, dY = 0.00e+00,3.87e-09\n",
      "\n",
      "DEBUG in boltzmannEq.dYdx() in 124: x = 1.20e-01, Decay = -0.000e+00, Injection = 0.000e+00 and Collision = -5.382e-26\n",
      "DEBUG in boltzmannEq.dYdx() in 128: Result: x = 1.20e-01, Y = 2.78e-01,7.80e-03, dY = 0.00e+00,-3.17e-02\n",
      "\n",
      "DEBUG in boltzmannEq.dYdx() in 124: x = 1.40e-01, Decay = -0.000e+00, Injection = 0.000e+00 and Collision = -1.877e-26\n",
      "DEBUG in boltzmannEq.dYdx() in 128: Result: x = 1.40e-01, Y = 2.78e-01,7.80e-03, dY = 0.00e+00,-8.10e-03\n",
      "\n"
     ]
    },
    {
     "name": "stdout",
     "output_type": "stream",
     "text": [
      "y = 7.803e-03, y^2 - yeq^2 = 0.000e+00, sigmaV = 8.024e-11\n",
      "sigmaV*(y^2 -yeq^2) = 0.000e+00, -(1/(3*H))*dsdx*(y**2-yeq**2)*sV = 0.000e+00\n",
      "[0.00000000e+00 3.86706736e-09]\n",
      "\n",
      "\n",
      "y = 7.803e-03, y^2 - yeq^2 = 7.363e-14, sigmaV = 6.963e-11\n",
      "sigmaV*(y^2 -yeq^2) = 5.127e-24, -(1/(3*H))*dsdx*(y**2-yeq**2)*sV = 3.020e+00\n",
      "[ 0.         -0.03170373]\n",
      "\n",
      "\n",
      "y = 7.803e-03, y^2 - yeq^2 = 2.370e-14, sigmaV = 6.208e-11\n",
      "sigmaV*(y^2 -yeq^2) = 1.471e-24, -(1/(3*H))*dsdx*(y**2-yeq**2)*sV = 6.349e-01\n",
      "[ 0.         -0.00809974]\n",
      "\n",
      "\n"
     ]
    }
   ],
   "source": [
    "comp = compDict[57]\n",
    "import thermal.equilibriumDensities as eqDensitities\n",
    "for i,x in enumerate(sol.t[:3]):\n",
    "    T = mDM/x\n",
    "    H = eqDensitities.H(T) #hubble rate at temperature T\n",
    "    dsdx = eqDensitities.dSdx(x, mDM) #variation of entropy with x\n",
    "    y = sol.y[1,i]\n",
    "    yeq = comp.Yeq(T)\n",
    "    sV = sum([process.sigmaV(T) for process in model.collisionProcesses])\n",
    "    print(f'y = {y:1.3e}, y^2 - yeq^2 = {y**2-yeq**2:1.3e}, sigmaV = {sV:1.3e}')\n",
    "    print(f'sigmaV*(y^2 -yeq^2) = {(y**2-yeq**2)*sV:1.3e}, -(1/(3*H))*dsdx*(y**2-yeq**2)*sV = {-(1/(3*H))*dsdx*(y**2-yeq**2)*sV:1.3e}')\n",
    "    print(dYdx(x,sol.y[:,i],model))\n",
    "    print('\\n')"
   ]
  },
  {
   "cell_type": "code",
   "execution_count": 20,
   "metadata": {},
   "outputs": [
    {
     "data": {
      "text/plain": [
       "{0: SM, 57: xd}"
      ]
     },
     "execution_count": 20,
     "metadata": {},
     "output_type": "execute_result"
    }
   ],
   "source": [
    "compDict"
   ]
  },
  {
   "cell_type": "code",
   "execution_count": null,
   "metadata": {},
   "outputs": [],
   "source": []
  }
 ],
 "metadata": {
  "kernelspec": {
   "display_name": "Python 3",
   "language": "python",
   "name": "python3"
  },
  "language_info": {
   "codemirror_mode": {
    "name": "ipython",
    "version": 3
   },
   "file_extension": ".py",
   "mimetype": "text/x-python",
   "name": "python",
   "nbconvert_exporter": "python",
   "pygments_lexer": "ipython3",
   "version": "3.12.7"
  }
 },
 "nbformat": 4,
 "nbformat_minor": 2
}
