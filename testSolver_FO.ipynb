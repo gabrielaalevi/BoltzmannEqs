{
 "cells": [
  {
   "cell_type": "code",
   "execution_count": 5,
   "metadata": {},
   "outputs": [],
   "source": [
    "from tools.modelData import ModelData\n",
    "from boltz.boltzmannEq import dYdx, computeCollisionTerms,computeDecayTerms\n",
    "from scipy.integrate import solve_ivp\n",
    "import numpy as np\n",
    "from matplotlib import pyplot as plt\n",
    "from tools.configParserWrapper import ConfigParserExt\n",
    "import os\n",
    "from tools.logger import setLogLevel"
   ]
  },
  {
   "cell_type": "markdown",
   "metadata": {},
   "source": [
    "### Load input parameters"
   ]
  },
  {
   "cell_type": "code",
   "execution_count": 6,
   "metadata": {},
   "outputs": [],
   "source": [
    "parfile = './input_parameters_FO.ini'\n",
    "parser = ConfigParserExt(inline_comment_prefixes=\"#\")   \n",
    "ret = parser.read(parfile)\n",
    "parser = parser.expandLoops()[0]\n",
    "parserDict = parser.toDict(raw=False)"
   ]
  },
  {
   "cell_type": "code",
   "execution_count": null,
   "metadata": {},
   "outputs": [
    {
     "ename": "KeyError",
     "evalue": "'nsteps'",
     "output_type": "error",
     "traceback": [
      "\u001b[0;31m---------------------------------------------------------------------------\u001b[0m",
      "\u001b[0;31mKeyError\u001b[0m                                  Traceback (most recent call last)",
      "Cell \u001b[0;32mIn[7], line 7\u001b[0m\n\u001b[1;32m      5\u001b[0m Tf \u001b[38;5;241m=\u001b[39m pars[\u001b[38;5;124m'\u001b[39m\u001b[38;5;124mTf\u001b[39m\u001b[38;5;124m'\u001b[39m]\n\u001b[1;32m      6\u001b[0m method \u001b[38;5;241m=\u001b[39m \u001b[38;5;124m'\u001b[39m\u001b[38;5;124mRadau\u001b[39m\u001b[38;5;124m'\u001b[39m\n\u001b[0;32m----> 7\u001b[0m nsteps \u001b[38;5;241m=\u001b[39m \u001b[43mpars\u001b[49m\u001b[43m[\u001b[49m\u001b[38;5;124;43m'\u001b[39;49m\u001b[38;5;124;43mnsteps\u001b[39;49m\u001b[38;5;124;43m'\u001b[39;49m\u001b[43m]\u001b[49m\n\u001b[1;32m      8\u001b[0m outputFolder \u001b[38;5;241m=\u001b[39m os\u001b[38;5;241m.\u001b[39mpath\u001b[38;5;241m.\u001b[39mabspath(parser[\u001b[38;5;124m'\u001b[39m\u001b[38;5;124mOptions\u001b[39m\u001b[38;5;124m'\u001b[39m][\u001b[38;5;124m'\u001b[39m\u001b[38;5;124moutputFolder\u001b[39m\u001b[38;5;124m'\u001b[39m])\n\u001b[1;32m      9\u001b[0m bannerFile \u001b[38;5;241m=\u001b[39m os\u001b[38;5;241m.\u001b[39mpath\u001b[38;5;241m.\u001b[39mjoin(outputFolder,\u001b[38;5;124m'\u001b[39m\u001b[38;5;124mdarkcalc_banner.txt\u001b[39m\u001b[38;5;124m'\u001b[39m)\n",
      "File \u001b[0;32m/usr/lib/python3.12/configparser.py:1224\u001b[0m, in \u001b[0;36mSectionProxy.__getitem__\u001b[0;34m(self, key)\u001b[0m\n\u001b[1;32m   1222\u001b[0m \u001b[38;5;28;01mdef\u001b[39;00m \u001b[38;5;21m__getitem__\u001b[39m(\u001b[38;5;28mself\u001b[39m, key):\n\u001b[1;32m   1223\u001b[0m     \u001b[38;5;28;01mif\u001b[39;00m \u001b[38;5;129;01mnot\u001b[39;00m \u001b[38;5;28mself\u001b[39m\u001b[38;5;241m.\u001b[39m_parser\u001b[38;5;241m.\u001b[39mhas_option(\u001b[38;5;28mself\u001b[39m\u001b[38;5;241m.\u001b[39m_name, key):\n\u001b[0;32m-> 1224\u001b[0m         \u001b[38;5;28;01mraise\u001b[39;00m \u001b[38;5;167;01mKeyError\u001b[39;00m(key)\n\u001b[1;32m   1225\u001b[0m     \u001b[38;5;28;01mreturn\u001b[39;00m \u001b[38;5;28mself\u001b[39m\u001b[38;5;241m.\u001b[39m_parser\u001b[38;5;241m.\u001b[39mget(\u001b[38;5;28mself\u001b[39m\u001b[38;5;241m.\u001b[39m_name, key)\n",
      "\u001b[0;31mKeyError\u001b[0m: 'nsteps'"
     ]
    }
   ],
   "source": [
    "pars = parser['SolverParameters']\n",
    "atol = 0.0\n",
    "rtol = 1e-4\n",
    "T0 = pars['T0']\n",
    "Tf = pars['Tf']\n",
    "method = 'Radau'\n",
    "nsteps = 500\n",
    "outputFolder = os.path.abspath(parser['Options']['outputFolder'])\n",
    "bannerFile = os.path.join(outputFolder,'darkcalc_banner.txt')\n",
    "dm = parser['Model']['darkmatter']\n",
    "bsmList = []\n",
    "if 'bsmParticles' in parser['Model']:\n",
    "    bsmList = str(parser['Model']['bsmParticles']).split(',')\n",
    "model = ModelData(dmPDG=dm, bsmPDGList=bsmList, bannerFile=bannerFile)\n",
    "    \n",
    "\n",
    "compDict = model.componentsDict\n",
    "mDM = compDict[model.dmPDG].mass\n",
    "x0 = mDM/T0\n",
    "xf = mDM/Tf  \n",
    "xvals = np.geomspace(x0,xf,1000)  \n"
   ]
  },
  {
   "cell_type": "code",
   "execution_count": null,
   "metadata": {},
   "outputs": [],
   "source": [
    "# Set initila conditions\n",
    "y0 = np.array([comp.Yeq(T0) for comp in compDict.values()])    \n",
    "if 'initialConditions' in pars:\n",
    "    # Set initila conditions\n",
    "    initialCond = pars['initialConditions']    \n",
    "    for label,comp_y0 in initialCond.items():\n",
    "        pdg = model.convert2PDG(label)\n",
    "        comp = compDict[pdg]            \n",
    "        if isinstance(comp_y0,float):\n",
    "            y0[comp.ID] = y0\n",
    "        elif comp_y0.lower() in ['eq', 'equilibrium']:\n",
    "            continue # Already set\n"
   ]
  },
  {
   "cell_type": "markdown",
   "metadata": {},
   "source": [
    "### Check terms in initial conditions"
   ]
  },
  {
   "cell_type": "code",
   "execution_count": null,
   "metadata": {},
   "outputs": [
    {
     "name": "stdout",
     "output_type": "stream",
     "text": [
      "SM 0.27765663383153705 0.27765663383153705\n",
      "xd 0.0001766052836427228 0.0001766052836427228\n"
     ]
    }
   ],
   "source": [
    "for comp in compDict.values():\n",
    "    print(comp,y0[comp.ID],comp.Yeq(mDM/x0))"
   ]
  },
  {
   "cell_type": "code",
   "execution_count": null,
   "metadata": {},
   "outputs": [
    {
     "name": "stdout",
     "output_type": "stream",
     "text": [
      "[{}, {'xdxdx_ddx': 0.0, 'xdxdx_uux': 0.0, 'xdxdx_ssx': 0.0, 'xdxdx_ccx': 0.0, 'xdxdx_bbx': 0.0, 'xdxdx_ttx': 0.0}]\n",
      "[{'decay': 0.0, 'injection': 0.0}, {'decay': 0.0, 'injection': 0.0}]\n"
     ]
    }
   ],
   "source": [
    "coll = computeCollisionTerms(x0,y0,model)\n",
    "dec = computeDecayTerms(x0,y0,model)\n",
    "print(coll)\n",
    "print(dec)"
   ]
  },
  {
   "cell_type": "code",
   "execution_count": null,
   "metadata": {},
   "outputs": [],
   "source": [
    "# for process in model.collisionProcesses:\n",
    "#     sigma = process.sigmaV(x0)\n",
    "#     print(f'Process {process.name} : sigmav = {sigma}')"
   ]
  },
  {
   "cell_type": "code",
   "execution_count": null,
   "metadata": {},
   "outputs": [
    {
     "name": "stdout",
     "output_type": "stream",
     "text": [
      "[0. 0.]\n"
     ]
    }
   ],
   "source": [
    "print(dYdx(x0,y0,model))"
   ]
  },
  {
   "cell_type": "markdown",
   "metadata": {},
   "source": [
    "### Solve equations"
   ]
  },
  {
   "cell_type": "code",
   "execution_count": null,
   "metadata": {},
   "outputs": [],
   "source": [
    "# Run solve following Gabriela's prescription\n",
    "sol = solve_ivp(dYdx, [x0,9], y0, args=(model,), atol = 10**(-12), rtol = 10**(-12), method='BDF', \n",
    "                t_eval=np.geomspace(x0,9,50))\n",
    "y = sol.y[:]\n",
    "x = sol.t[:]\n",
    "sol = solve_ivp(dYdx, [sol.t[-1],11], sol.y[:,-1], args=(model,), atol = 10**(-12), rtol = 10**(-12), method='LSODA', max_step = 0.08,\n",
    "                t_eval=np.geomspace(9,11,50))\n",
    "y = np.hstack((y,sol.y))\n",
    "x = np.hstack((x,sol.t))\n",
    "sol = solve_ivp(dYdx, [sol.t[-1],28], sol.y[:,-1], args=(model,), atol = 10**(-13), rtol = 10**(-13), method='LSODA', max_step = 0.08,\n",
    "                t_eval=np.geomspace(11,28,50))\n",
    "y = np.hstack((y,sol.y))\n",
    "x = np.hstack((x,sol.t))\n",
    "sol = solve_ivp(dYdx, [sol.t[-1],xf], sol.y[:,-1], args=(model,), atol = 10**(-12), rtol = 10**(-12), method='LSODA', max_step = 0.04,\n",
    "                t_eval=np.geomspace(28,xf,50))\n",
    "y = np.hstack((y,sol.y))\n",
    "x = np.hstack((x,sol.t))"
   ]
  },
  {
   "cell_type": "code",
   "execution_count": null,
   "metadata": {},
   "outputs": [],
   "source": [
    "x_sol = x\n",
    "y_sol = y"
   ]
  },
  {
   "cell_type": "code",
   "execution_count": null,
   "metadata": {},
   "outputs": [],
   "source": [
    "# # Run solver once\n",
    "# sol = solve_ivp(dYdx, [x0,xf], y0, args=(model,), atol = atol, \n",
    "#                     rtol = rtol, method=method, t_eval=xvals)\n",
    "# x_sol = sol.t\n",
    "# y_sol = sol.y\n"
   ]
  },
  {
   "cell_type": "code",
   "execution_count": null,
   "metadata": {},
   "outputs": [
    {
     "data": {
      "image/png": "[encoded data removed]",
      "text/plain": [
       "<Figure size 640x480 with 1 Axes>"
      ]
     },
     "metadata": {},
     "output_type": "display_data"
    }
   ],
   "source": [
    "# fig = plt.figure(figsize=(10,8))\n",
    "# plt.plot(x,y[1,:], 'r', linewidth=2, label = r'$Y_{X}$')\n",
    "plt.plot(x_sol,y_sol[1,:], 'r', linewidth=2, label = r'$Y_{X}$')\n",
    "\n",
    "# plt.plot(x,y[2,:], 'b', linewidth=2, label = r'$Y_{\\chi}$')\n",
    "# plt.plot(x_sol,y_sol[2,:], 'b', linewidth=2, label = r'$Y_{\\chi}$',linestyle='dashed')\n",
    "\n",
    "plt.xlabel(r'$x = m_{\\chi}/T$')\n",
    "plt.ylabel('Yield')\n",
    "\n",
    "plt.xscale('log')\n",
    "plt.yscale('log')\n",
    "plt.legend()\n",
    "plt.show()"
   ]
  },
  {
   "cell_type": "code",
   "execution_count": null,
   "metadata": {},
   "outputs": [
    {
     "name": "stdout",
     "output_type": "stream",
     "text": [
      "Omegah2 = 0.107\n"
     ]
    }
   ],
   "source": [
    "Ytot = sum(y_sol[1:,-1])\n",
    "omh2 = 0.12*Ytot/(6.8e-13)\n",
    "print(f\"Omegah2 = {omh2:1.3f}\")"
   ]
  },
  {
   "cell_type": "code",
   "execution_count": null,
   "metadata": {},
   "outputs": [],
   "source": []
  }
 ],
 "metadata": {
  "kernelspec": {
   "display_name": "Python 3",
   "language": "python",
   "name": "python3"
  },
  "language_info": {
   "codemirror_mode": {
    "name": "ipython",
    "version": 3
   },
   "file_extension": ".py",
   "mimetype": "text/x-python",
   "name": "python",
   "nbconvert_exporter": "python",
   "pygments_lexer": "ipython3",
   "version": "3.12.7"
  }
 },
 "nbformat": 4,
 "nbformat_minor": 2
}
