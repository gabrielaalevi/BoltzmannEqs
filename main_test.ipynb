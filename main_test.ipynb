{
 "cells": [
  {
   "cell_type": "code",
   "execution_count": 1,
   "metadata": {},
   "outputs": [
    {
     "name": "stdout",
     "output_type": "stream",
     "text": [
      "x 1.0 dY [0. 0.]\n",
      "x 1.0000001490117596 dY [3103.6342763  7992.77347147]\n",
      "x 1.0000001490117596 dY [2.83506098e+10 9.80426453e+10]\n",
      "x 1.0000000372529398 dY [ 775.90874333 1998.19381405]\n",
      "x 1.0000000372529398 dY [1.52030912e+09 4.87747804e+09]\n",
      "x 1.000000009313235 dY [193.97721896 499.54854442]\n",
      "x 1.000000009313235 dY [9.40366541e+07 2.99959261e+08]\n",
      "x 1.0000000023283087 dY [ 48.49430789 124.88713778]\n",
      "x 1.0000000023283087 dY [ 5873488.30126305 18728471.66214317]\n",
      "x 1.0000000005820773 dY [12.12357124 31.22176478]\n",
      "x 1.0000000005820773 dY [ 367086.90061888 1170477.66078658]\n",
      "x 1.0000000001455194 dY [3.03089116 7.80545736]\n",
      "x 1.0000000001455194 dY [22945.17686751 73160.55183194]\n",
      "x 1.0000000000363798 dY [0.75772362 1.95136008]\n",
      "x 1.0000000000363798 dY [1434.63978228 4573.98817837]\n",
      "x 1.000000000009095 dY [0.18942513 0.48782025]\n",
      "x 1.000000000009095 dY [ 89.80366962 286.22878143]\n",
      "x 1.0000000000022737 dY [0.04735546 0.12194915]\n",
      "x 1.0000000000022737 dY [ 5.64802102 17.97994109]\n",
      "x 1.0000000000005684 dY [0.01183639 0.03046955]\n",
      "x 1.0000000000005684 dY [0.36170795 1.14597497]\n"
     ]
    },
    {
     "name": "stderr",
     "output_type": "stream",
     "text": [
      "c:\\Users\\Gabi\\Downloads\\Faculdade\\Diss\\Code with MADDM\\boltzSolver.py:35: ODEintWarning: Repeated convergence failures (perhaps bad Jacobian or tolerances). Run with full_output = 1 to get quantitative information.\n",
      "  sol = odeint(boltz, y0, x, atol=10**(-14), rtol=10**(-14), args=(comp_names, SM))\n"
     ]
    }
   ],
   "source": [
    "from boltzSolver import sol\n",
    "#import matplotlib.pyplot as plt\n",
    "\n",
    "#print(sol1,sol2,sol3,sol4)\n",
    "#plt.plot(sol1.t, sol1.y[0])\n",
    "#plt.plot(sol2.t, sol2.y[0])\n",
    "#plt.plot(sol3.t, sol3.y[0])\n",
    "#plt.plot(sol4.t, sol4.y[0])\n",
    "\n",
    "#plt.plot(x, sol)\n"
   ]
  },
  {
   "cell_type": "code",
   "execution_count": null,
   "metadata": {},
   "outputs": [],
   "source": []
  },
  {
   "cell_type": "code",
   "execution_count": null,
   "metadata": {},
   "outputs": [],
   "source": []
  }
 ],
 "metadata": {
  "kernelspec": {
   "display_name": "Python 3",
   "language": "python",
   "name": "python3"
  },
  "language_info": {
   "codemirror_mode": {
    "name": "ipython",
    "version": 3
   },
   "file_extension": ".py",
   "mimetype": "text/x-python",
   "name": "python",
   "nbconvert_exporter": "python",
   "pygments_lexer": "ipython3",
   "version": "3.12.5"
  }
 },
 "nbformat": 4,
 "nbformat_minor": 2
}
