{
 "cells": [
  {
   "cell_type": "code",
   "execution_count": 1,
   "metadata": {},
   "outputs": [
    {
     "name": "stderr",
     "output_type": "stream",
     "text": [
      "c:\\Users\\Gabi\\AppData\\Local\\Programs\\Python\\Python312\\Lib\\site-packages\\scipy\\integrate\\_ivp\\ivp.py:616: UserWarning: At least one element of `rtol` is too small. Setting `rtol = np.maximum(rtol, 2.220446049250313e-14)`.\n",
      "  solver = method(fun, t0, y0, tf, vectorized=vectorized, **options)\n"
     ]
    },
    {
     "name": "stdout",
     "output_type": "stream",
     "text": [
      "x 1.0 dY [0. 0.]\n",
      "x 1.000001 dY [20828.08959805 53638.45757699]\n",
      "x 1.0 dY [401.04402529 401.0430414 ]\n",
      "x 1.0 dY [ 401.0430414  1612.88201572]\n",
      "x 1.0000000345584312 dY [ 719.78720374 1853.66428553]\n",
      "x 1.0000001437489665 dY [2994.02024723 7710.48503701]\n",
      "x 1.000000222884247 dY [ 4642.25836846 11955.18424099]\n",
      "x 1.0000000345584312 dY [-0.00064052 -0.00058964]\n",
      "x 1.0000001437489665 dY [0.00024102 0.00172679]\n",
      "x 1.000000222884247 dY [0.00156498 0.00516746]\n",
      "x 1.000000222884247 dY [-0.00069335 -0.00072896]\n",
      "x 1.0000003430432247 dY [-0.00556657 -0.0060245 ]\n",
      "x 1.0000007226965448 dY [-0.13015407 -0.13872745]\n",
      "x 1.0000009978483413 dY [-0.41446824 -0.44087521]\n",
      "x 1.0000003430432247 dY [-0.00069335 -0.00073914]\n",
      "x 1.0000007226965448 dY [-0.00069665 -0.00073735]\n",
      "x 1.0000009978483413 dY [-0.00069665 -0.00074244]\n",
      "x 1.0000009978483413 dY [-0.00069334 -0.00073914]\n",
      "x 1.0000021994381183 dY [0.00108624 0.00422058]\n",
      "x 1.0000059959713181 dY [0.07443813 0.20723471]\n",
      "x 1.0000087474892836 dY [0.26043333 0.72156809]\n",
      "x 1.0000021994381183 dY [-0.00069334 -0.00074422]\n",
      "x 1.0000059959713181 dY [-0.00069664 -0.00074752]\n",
      "x 1.0000087474892836 dY [-0.00069003 -0.00072565]\n",
      "x 1.0000087474892836 dY [-0.00069664 -0.00074243]\n",
      "x 1.0000207633870544 dY [-0.00078577 -0.00224094]\n",
      "x 1.0000587287190512 dY [-0.0067215  -0.06331663]\n",
      "x 1.0000862438987066 dY [-0.02266924 -0.21756176]\n",
      "x 1.0000207633870544 dY [-0.00069663 -0.0007475 ]\n",
      "x 1.0000587287190512 dY [-0.00069658 -0.00075255]\n",
      "x 1.0000862438987066 dY [-0.00069986 -0.00078634]\n",
      "x 1.0000862438987066 dY [-0.00069656 -0.00074743]\n",
      "x 1.0002064028764144 dY [0.00023104 0.00218922]\n",
      "x 1.0005860561963829 dY [0.03512753 0.11053413]\n",
      "x 1.0008612079929367 dY [0.12202234 0.37911421]\n",
      "x 1.0002064028764144 dY [-0.00069313 -0.0007389 ]\n",
      "x 1.0005860561963829 dY [-0.00065644 -0.00060053]\n",
      "x 1.0008612079929367 dY [-4.94592804e-04 -1.71122071e-05]\n",
      "x 1.0008612079929367 dY [-0.00069573 -0.00073128]\n",
      "x 1.0020627977700152 dY [0.00624012 0.01811323]\n",
      "x 1.0058593309696986 dY [0.9386027  2.52765535]\n",
      "x 1.0086108489352372 dY [ 4.85811579 13.03098254]\n",
      "x 1.0020627977700152 dY [-0.00066812 -0.00066305]\n",
      "x 1.0058593309696986 dY [0.00979681 0.03178617]\n",
      "x 1.0086108489352372 dY [0.07876993 0.24456923]\n",
      "x 1.0086108489352372 dY [0.00060607 0.00393266]\n",
      "x 1.0206267467060217 dY [ 69.84624946 185.44685695]\n",
      "x 1.0585920787028573 dY [ 8575.17575045 22512.96845485]\n",
      "x 1.086107258358243 dY [ 42177.99566198 109861.45913903]\n",
      "x 1.0206267467060217 dY [2.69270565 8.20940425]\n",
      "x 1.0585920787028573 dY [ 894.19374158 2679.59432519]\n",
      "x 1.086107258358243 dY [ 6244.75757879 18491.24845727]\n",
      "x 1.0086108489352372 dY [39.31682992 39.32006117]\n",
      "x 1.0086108489352372 dY [ 39.31673131 157.63193792]\n",
      "x 1.0206267467060217 dY [ 69.84624946 185.44685695]\n",
      "x 1.0585920787028573 dY [ 8575.17575045 22512.96845485]\n",
      "x 1.086107258358243 dY [ 42177.99566198 109861.45913903]\n",
      "x 1.0206267467060217 dY [1.57584309 4.81240622]\n",
      "x 1.0585920787028573 dY [ 766.40404786 2300.09519613]\n",
      "x 1.086107258358243 dY [ 5646.78840664 16745.02766611]\n",
      "x 1.0146187978206294 dY [ 9.8722338  26.26471388]\n",
      "x 1.0336014638190474 dY [ 748.71700993 1980.09891392]\n",
      "x 1.04735905364674 dY [3449.57713601 9086.05532621]\n",
      "x 1.0146187978206294 dY [0.11161696 0.34316861]\n",
      "x 1.0336014638190474 dY [ 34.55225949 104.86111501]\n",
      "x 1.04735905364674 dY [242.47246424 731.32930344]\n"
     ]
    },
    {
     "ename": "KeyboardInterrupt",
     "evalue": "",
     "output_type": "error",
     "traceback": [
      "\u001b[1;31m---------------------------------------------------------------------------\u001b[0m",
      "\u001b[1;31mKeyboardInterrupt\u001b[0m                         Traceback (most recent call last)",
      "Cell \u001b[1;32mIn[1], line 1\u001b[0m\n\u001b[1;32m----> 1\u001b[0m \u001b[38;5;28;01mfrom\u001b[39;00m \u001b[38;5;21;01mboltzSolver\u001b[39;00m \u001b[38;5;28;01mimport\u001b[39;00m sol1, sol2, sol3, sol4\n\u001b[0;32m      2\u001b[0m \u001b[38;5;28;01mimport\u001b[39;00m \u001b[38;5;21;01mmatplotlib\u001b[39;00m\u001b[38;5;21;01m.\u001b[39;00m\u001b[38;5;21;01mpyplot\u001b[39;00m \u001b[38;5;28;01mas\u001b[39;00m \u001b[38;5;21;01mplt\u001b[39;00m\n\u001b[0;32m      4\u001b[0m \u001b[38;5;28mprint\u001b[39m(sol1,sol2,sol3,sol4)\n",
      "File \u001b[1;32mc:\\Users\\Gabi\\Downloads\\Faculdade\\Diss\\Code with MADDM\\boltzSolver.py:28\u001b[0m\n\u001b[0;32m     25\u001b[0m         y0[i] \u001b[38;5;241m=\u001b[39m \u001b[38;5;241m0.0001\u001b[39m\n\u001b[0;32m     27\u001b[0m \u001b[38;5;66;03m#solving the ODE\u001b[39;00m\n\u001b[1;32m---> 28\u001b[0m sol1 \u001b[38;5;241m=\u001b[39m \u001b[43msolve_ivp\u001b[49m\u001b[43m(\u001b[49m\u001b[43mboltz\u001b[49m\u001b[43m,\u001b[49m\u001b[43m \u001b[49m\u001b[43m[\u001b[49m\u001b[43mx\u001b[49m\u001b[43m[\u001b[49m\u001b[38;5;241;43m0\u001b[39;49m\u001b[43m]\u001b[49m\u001b[43m,\u001b[49m\u001b[43m \u001b[49m\u001b[38;5;241;43m9.5\u001b[39;49m\u001b[43m]\u001b[49m\u001b[43m,\u001b[49m\u001b[43m  \u001b[49m\u001b[43my0\u001b[49m\u001b[43m,\u001b[49m\u001b[43m \u001b[49m\u001b[43margs\u001b[49m\u001b[38;5;241;43m=\u001b[39;49m\u001b[43m(\u001b[49m\u001b[43mcomp_names\u001b[49m\u001b[43m,\u001b[49m\u001b[43m \u001b[49m\u001b[43mSM\u001b[49m\u001b[43m)\u001b[49m\u001b[43m,\u001b[49m\u001b[43m \u001b[49m\u001b[43mmethod\u001b[49m\u001b[38;5;241;43m=\u001b[39;49m\u001b[38;5;124;43m'\u001b[39;49m\u001b[38;5;124;43mRadau\u001b[39;49m\u001b[38;5;124;43m'\u001b[39;49m\u001b[43m,\u001b[49m\u001b[43m \u001b[49m\u001b[43mdense_output\u001b[49m\u001b[38;5;241;43m=\u001b[39;49m\u001b[43m \u001b[49m\u001b[38;5;28;43;01mTrue\u001b[39;49;00m\u001b[43m,\u001b[49m\u001b[43m \u001b[49m\u001b[43mrtol\u001b[49m\u001b[43m \u001b[49m\u001b[38;5;241;43m=\u001b[39;49m\u001b[43m \u001b[49m\u001b[38;5;241;43m10\u001b[39;49m\u001b[38;5;241;43m*\u001b[39;49m\u001b[38;5;241;43m*\u001b[39;49m\u001b[43m(\u001b[49m\u001b[38;5;241;43m-\u001b[39;49m\u001b[38;5;241;43m14\u001b[39;49m\u001b[43m)\u001b[49m\u001b[43m,\u001b[49m\u001b[43m \u001b[49m\u001b[43matol\u001b[49m\u001b[43m \u001b[49m\u001b[38;5;241;43m=\u001b[39;49m\u001b[43m \u001b[49m\u001b[38;5;241;43m10\u001b[39;49m\u001b[38;5;241;43m*\u001b[39;49m\u001b[38;5;241;43m*\u001b[39;49m\u001b[43m(\u001b[49m\u001b[38;5;241;43m-\u001b[39;49m\u001b[38;5;241;43m14\u001b[39;49m\u001b[43m)\u001b[49m\u001b[43m)\u001b[49m\n\u001b[0;32m     29\u001b[0m sol2 \u001b[38;5;241m=\u001b[39m solve_ivp(boltz, [\u001b[38;5;241m9.5\u001b[39m, \u001b[38;5;241m10.5\u001b[39m], (sol1\u001b[38;5;241m.\u001b[39my[\u001b[38;5;241m0\u001b[39m][\u001b[38;5;241m-\u001b[39m\u001b[38;5;241m1\u001b[39m], sol1\u001b[38;5;241m.\u001b[39my[\u001b[38;5;241m1\u001b[39m][\u001b[38;5;241m-\u001b[39m\u001b[38;5;241m1\u001b[39m]), args\u001b[38;5;241m=\u001b[39m(comp_names, SM), method\u001b[38;5;241m=\u001b[39m\u001b[38;5;124m'\u001b[39m\u001b[38;5;124mBDF\u001b[39m\u001b[38;5;124m'\u001b[39m, dense_output\u001b[38;5;241m=\u001b[39m \u001b[38;5;28;01mTrue\u001b[39;00m, rtol \u001b[38;5;241m=\u001b[39m \u001b[38;5;241m10\u001b[39m\u001b[38;5;241m*\u001b[39m\u001b[38;5;241m*\u001b[39m(\u001b[38;5;241m-\u001b[39m\u001b[38;5;241m14\u001b[39m), atol \u001b[38;5;241m=\u001b[39m \u001b[38;5;241m10\u001b[39m\u001b[38;5;241m*\u001b[39m\u001b[38;5;241m*\u001b[39m(\u001b[38;5;241m-\u001b[39m\u001b[38;5;241m14\u001b[39m))\n\u001b[0;32m     30\u001b[0m sol3 \u001b[38;5;241m=\u001b[39m solve_ivp(boltz, [\u001b[38;5;241m10.5\u001b[39m, \u001b[38;5;241m15\u001b[39m], (sol2\u001b[38;5;241m.\u001b[39my[\u001b[38;5;241m0\u001b[39m][\u001b[38;5;241m-\u001b[39m\u001b[38;5;241m1\u001b[39m], sol2\u001b[38;5;241m.\u001b[39my[\u001b[38;5;241m1\u001b[39m][\u001b[38;5;241m-\u001b[39m\u001b[38;5;241m1\u001b[39m]), args\u001b[38;5;241m=\u001b[39m(comp_names, SM), method\u001b[38;5;241m=\u001b[39m\u001b[38;5;124m'\u001b[39m\u001b[38;5;124mBDF\u001b[39m\u001b[38;5;124m'\u001b[39m, dense_output\u001b[38;5;241m=\u001b[39m \u001b[38;5;28;01mTrue\u001b[39;00m, rtol \u001b[38;5;241m=\u001b[39m \u001b[38;5;241m10\u001b[39m\u001b[38;5;241m*\u001b[39m\u001b[38;5;241m*\u001b[39m(\u001b[38;5;241m-\u001b[39m\u001b[38;5;241m14\u001b[39m), atol \u001b[38;5;241m=\u001b[39m \u001b[38;5;241m10\u001b[39m\u001b[38;5;241m*\u001b[39m\u001b[38;5;241m*\u001b[39m(\u001b[38;5;241m-\u001b[39m\u001b[38;5;241m14\u001b[39m))\n",
      "File \u001b[1;32mc:\\Users\\Gabi\\AppData\\Local\\Programs\\Python\\Python312\\Lib\\site-packages\\scipy\\integrate\\_ivp\\ivp.py:650\u001b[0m, in \u001b[0;36msolve_ivp\u001b[1;34m(fun, t_span, y0, method, t_eval, dense_output, events, vectorized, args, **options)\u001b[0m\n\u001b[0;32m    648\u001b[0m status \u001b[38;5;241m=\u001b[39m \u001b[38;5;28;01mNone\u001b[39;00m\n\u001b[0;32m    649\u001b[0m \u001b[38;5;28;01mwhile\u001b[39;00m status \u001b[38;5;129;01mis\u001b[39;00m \u001b[38;5;28;01mNone\u001b[39;00m:\n\u001b[1;32m--> 650\u001b[0m     message \u001b[38;5;241m=\u001b[39m \u001b[43msolver\u001b[49m\u001b[38;5;241;43m.\u001b[39;49m\u001b[43mstep\u001b[49m\u001b[43m(\u001b[49m\u001b[43m)\u001b[49m\n\u001b[0;32m    652\u001b[0m     \u001b[38;5;28;01mif\u001b[39;00m solver\u001b[38;5;241m.\u001b[39mstatus \u001b[38;5;241m==\u001b[39m \u001b[38;5;124m'\u001b[39m\u001b[38;5;124mfinished\u001b[39m\u001b[38;5;124m'\u001b[39m:\n\u001b[0;32m    653\u001b[0m         status \u001b[38;5;241m=\u001b[39m \u001b[38;5;241m0\u001b[39m\n",
      "File \u001b[1;32mc:\\Users\\Gabi\\AppData\\Local\\Programs\\Python\\Python312\\Lib\\site-packages\\scipy\\integrate\\_ivp\\base.py:197\u001b[0m, in \u001b[0;36mOdeSolver.step\u001b[1;34m(self)\u001b[0m\n\u001b[0;32m    195\u001b[0m \u001b[38;5;28;01melse\u001b[39;00m:\n\u001b[0;32m    196\u001b[0m     t \u001b[38;5;241m=\u001b[39m \u001b[38;5;28mself\u001b[39m\u001b[38;5;241m.\u001b[39mt\n\u001b[1;32m--> 197\u001b[0m     success, message \u001b[38;5;241m=\u001b[39m \u001b[38;5;28;43mself\u001b[39;49m\u001b[38;5;241;43m.\u001b[39;49m\u001b[43m_step_impl\u001b[49m\u001b[43m(\u001b[49m\u001b[43m)\u001b[49m\n\u001b[0;32m    199\u001b[0m     \u001b[38;5;28;01mif\u001b[39;00m \u001b[38;5;129;01mnot\u001b[39;00m success:\n\u001b[0;32m    200\u001b[0m         \u001b[38;5;28mself\u001b[39m\u001b[38;5;241m.\u001b[39mstatus \u001b[38;5;241m=\u001b[39m \u001b[38;5;124m'\u001b[39m\u001b[38;5;124mfailed\u001b[39m\u001b[38;5;124m'\u001b[39m\n",
      "File \u001b[1;32mc:\\Users\\Gabi\\AppData\\Local\\Programs\\Python\\Python312\\Lib\\site-packages\\scipy\\integrate\\_ivp\\radau.py:460\u001b[0m, in \u001b[0;36mRadau._step_impl\u001b[1;34m(self)\u001b[0m\n\u001b[0;32m    457\u001b[0m     LU_real \u001b[38;5;241m=\u001b[39m \u001b[38;5;28mself\u001b[39m\u001b[38;5;241m.\u001b[39mlu(MU_REAL \u001b[38;5;241m/\u001b[39m h \u001b[38;5;241m*\u001b[39m \u001b[38;5;28mself\u001b[39m\u001b[38;5;241m.\u001b[39mI \u001b[38;5;241m-\u001b[39m J)\n\u001b[0;32m    458\u001b[0m     LU_complex \u001b[38;5;241m=\u001b[39m \u001b[38;5;28mself\u001b[39m\u001b[38;5;241m.\u001b[39mlu(MU_COMPLEX \u001b[38;5;241m/\u001b[39m h \u001b[38;5;241m*\u001b[39m \u001b[38;5;28mself\u001b[39m\u001b[38;5;241m.\u001b[39mI \u001b[38;5;241m-\u001b[39m J)\n\u001b[1;32m--> 460\u001b[0m converged, n_iter, Z, rate \u001b[38;5;241m=\u001b[39m \u001b[43msolve_collocation_system\u001b[49m\u001b[43m(\u001b[49m\n\u001b[0;32m    461\u001b[0m \u001b[43m    \u001b[49m\u001b[38;5;28;43mself\u001b[39;49m\u001b[38;5;241;43m.\u001b[39;49m\u001b[43mfun\u001b[49m\u001b[43m,\u001b[49m\u001b[43m \u001b[49m\u001b[43mt\u001b[49m\u001b[43m,\u001b[49m\u001b[43m \u001b[49m\u001b[43my\u001b[49m\u001b[43m,\u001b[49m\u001b[43m \u001b[49m\u001b[43mh\u001b[49m\u001b[43m,\u001b[49m\u001b[43m \u001b[49m\u001b[43mZ0\u001b[49m\u001b[43m,\u001b[49m\u001b[43m \u001b[49m\u001b[43mscale\u001b[49m\u001b[43m,\u001b[49m\u001b[43m \u001b[49m\u001b[38;5;28;43mself\u001b[39;49m\u001b[38;5;241;43m.\u001b[39;49m\u001b[43mnewton_tol\u001b[49m\u001b[43m,\u001b[49m\n\u001b[0;32m    462\u001b[0m \u001b[43m    \u001b[49m\u001b[43mLU_real\u001b[49m\u001b[43m,\u001b[49m\u001b[43m \u001b[49m\u001b[43mLU_complex\u001b[49m\u001b[43m,\u001b[49m\u001b[43m \u001b[49m\u001b[38;5;28;43mself\u001b[39;49m\u001b[38;5;241;43m.\u001b[39;49m\u001b[43msolve_lu\u001b[49m\u001b[43m)\u001b[49m\n\u001b[0;32m    464\u001b[0m \u001b[38;5;28;01mif\u001b[39;00m \u001b[38;5;129;01mnot\u001b[39;00m converged:\n\u001b[0;32m    465\u001b[0m     \u001b[38;5;28;01mif\u001b[39;00m current_jac:\n",
      "File \u001b[1;32mc:\\Users\\Gabi\\AppData\\Local\\Programs\\Python\\Python312\\Lib\\site-packages\\scipy\\integrate\\_ivp\\radau.py:103\u001b[0m, in \u001b[0;36msolve_collocation_system\u001b[1;34m(fun, t, y, h, Z0, scale, tol, LU_real, LU_complex, solve_lu)\u001b[0m\n\u001b[0;32m    101\u001b[0m \u001b[38;5;28;01mfor\u001b[39;00m k \u001b[38;5;129;01min\u001b[39;00m \u001b[38;5;28mrange\u001b[39m(NEWTON_MAXITER):\n\u001b[0;32m    102\u001b[0m     \u001b[38;5;28;01mfor\u001b[39;00m i \u001b[38;5;129;01min\u001b[39;00m \u001b[38;5;28mrange\u001b[39m(\u001b[38;5;241m3\u001b[39m):\n\u001b[1;32m--> 103\u001b[0m         F[i] \u001b[38;5;241m=\u001b[39m \u001b[43mfun\u001b[49m\u001b[43m(\u001b[49m\u001b[43mt\u001b[49m\u001b[43m \u001b[49m\u001b[38;5;241;43m+\u001b[39;49m\u001b[43m \u001b[49m\u001b[43mch\u001b[49m\u001b[43m[\u001b[49m\u001b[43mi\u001b[49m\u001b[43m]\u001b[49m\u001b[43m,\u001b[49m\u001b[43m \u001b[49m\u001b[43my\u001b[49m\u001b[43m \u001b[49m\u001b[38;5;241;43m+\u001b[39;49m\u001b[43m \u001b[49m\u001b[43mZ\u001b[49m\u001b[43m[\u001b[49m\u001b[43mi\u001b[49m\u001b[43m]\u001b[49m\u001b[43m)\u001b[49m\n\u001b[0;32m    105\u001b[0m     \u001b[38;5;28;01mif\u001b[39;00m \u001b[38;5;129;01mnot\u001b[39;00m np\u001b[38;5;241m.\u001b[39mall(np\u001b[38;5;241m.\u001b[39misfinite(F)):\n\u001b[0;32m    106\u001b[0m         \u001b[38;5;28;01mbreak\u001b[39;00m\n",
      "File \u001b[1;32mc:\\Users\\Gabi\\AppData\\Local\\Programs\\Python\\Python312\\Lib\\site-packages\\scipy\\integrate\\_ivp\\base.py:154\u001b[0m, in \u001b[0;36mOdeSolver.__init__.<locals>.fun\u001b[1;34m(t, y)\u001b[0m\n\u001b[0;32m    152\u001b[0m \u001b[38;5;28;01mdef\u001b[39;00m \u001b[38;5;21mfun\u001b[39m(t, y):\n\u001b[0;32m    153\u001b[0m     \u001b[38;5;28mself\u001b[39m\u001b[38;5;241m.\u001b[39mnfev \u001b[38;5;241m+\u001b[39m\u001b[38;5;241m=\u001b[39m \u001b[38;5;241m1\u001b[39m\n\u001b[1;32m--> 154\u001b[0m     \u001b[38;5;28;01mreturn\u001b[39;00m \u001b[38;5;28;43mself\u001b[39;49m\u001b[38;5;241;43m.\u001b[39;49m\u001b[43mfun_single\u001b[49m\u001b[43m(\u001b[49m\u001b[43mt\u001b[49m\u001b[43m,\u001b[49m\u001b[43m \u001b[49m\u001b[43my\u001b[49m\u001b[43m)\u001b[49m\n",
      "File \u001b[1;32mc:\\Users\\Gabi\\AppData\\Local\\Programs\\Python\\Python312\\Lib\\site-packages\\scipy\\integrate\\_ivp\\base.py:23\u001b[0m, in \u001b[0;36mcheck_arguments.<locals>.fun_wrapped\u001b[1;34m(t, y)\u001b[0m\n\u001b[0;32m     22\u001b[0m \u001b[38;5;28;01mdef\u001b[39;00m \u001b[38;5;21mfun_wrapped\u001b[39m(t, y):\n\u001b[1;32m---> 23\u001b[0m     \u001b[38;5;28;01mreturn\u001b[39;00m np\u001b[38;5;241m.\u001b[39masarray(\u001b[43mfun\u001b[49m\u001b[43m(\u001b[49m\u001b[43mt\u001b[49m\u001b[43m,\u001b[49m\u001b[43m \u001b[49m\u001b[43my\u001b[49m\u001b[43m)\u001b[49m, dtype\u001b[38;5;241m=\u001b[39mdtype)\n",
      "File \u001b[1;32mc:\\Users\\Gabi\\AppData\\Local\\Programs\\Python\\Python312\\Lib\\site-packages\\scipy\\integrate\\_ivp\\ivp.py:588\u001b[0m, in \u001b[0;36msolve_ivp.<locals>.fun\u001b[1;34m(t, x, fun)\u001b[0m\n\u001b[0;32m    587\u001b[0m \u001b[38;5;28;01mdef\u001b[39;00m \u001b[38;5;21mfun\u001b[39m(t, x, fun\u001b[38;5;241m=\u001b[39mfun):\n\u001b[1;32m--> 588\u001b[0m     \u001b[38;5;28;01mreturn\u001b[39;00m \u001b[43mfun\u001b[49m\u001b[43m(\u001b[49m\u001b[43mt\u001b[49m\u001b[43m,\u001b[49m\u001b[43m \u001b[49m\u001b[43mx\u001b[49m\u001b[43m,\u001b[49m\u001b[43m \u001b[49m\u001b[38;5;241;43m*\u001b[39;49m\u001b[43margs\u001b[49m\u001b[43m)\u001b[49m\n",
      "File \u001b[1;32mc:\\Users\\Gabi\\Downloads\\Faculdade\\Diss\\Code with MADDM\\boltzmannEq.py:26\u001b[0m, in \u001b[0;36mboltz\u001b[1;34m(x, Y, comp_names, SM)\u001b[0m\n\u001b[0;32m     23\u001b[0m \u001b[38;5;28;01mfor\u001b[39;00m p \u001b[38;5;129;01min\u001b[39;00m \u001b[38;5;28mrange\u001b[39m(\u001b[38;5;241m0\u001b[39m, \u001b[38;5;28mlen\u001b[39m(x_new)):\n\u001b[0;32m     24\u001b[0m \u001b[38;5;66;03m#loop to find the value of x closest to the one being used by odeint, necessary to call the right element of the cross section and decay width arrays\u001b[39;00m\n\u001b[0;32m     25\u001b[0m     diff \u001b[38;5;241m=\u001b[39m \u001b[38;5;28mabs\u001b[39m(x \u001b[38;5;241m-\u001b[39m x_new[p])\n\u001b[1;32m---> 26\u001b[0m     \u001b[38;5;28;01mif\u001b[39;00m diff \u001b[38;5;241m<\u001b[39m tol:\n\u001b[0;32m     27\u001b[0m         index \u001b[38;5;241m=\u001b[39m p\n\u001b[0;32m     28\u001b[0m         tol \u001b[38;5;241m=\u001b[39m diff\n",
      "\u001b[1;31mKeyboardInterrupt\u001b[0m: "
     ]
    }
   ],
   "source": [
    "from boltzSolver import sol1, sol2, sol3, sol4\n",
    "import matplotlib.pyplot as plt\n",
    "\n",
    "print(sol1,sol2,sol3,sol4)\n",
    "plt.plot(sol1.t, sol1.y[0])\n",
    "plt.plot(sol2.t, sol2.y[0])\n",
    "plt.plot(sol3.t, sol3.y[0])\n",
    "plt.plot(sol4.t, sol4.y[0])\n"
   ]
  },
  {
   "cell_type": "code",
   "execution_count": null,
   "metadata": {},
   "outputs": [],
   "source": []
  },
  {
   "cell_type": "code",
   "execution_count": null,
   "metadata": {},
   "outputs": [],
   "source": []
  }
 ],
 "metadata": {
  "kernelspec": {
   "display_name": "Python 3",
   "language": "python",
   "name": "python3"
  },
  "language_info": {
   "codemirror_mode": {
    "name": "ipython",
    "version": 3
   },
   "file_extension": ".py",
   "mimetype": "text/x-python",
   "name": "python",
   "nbconvert_exporter": "python",
   "pygments_lexer": "ipython3",
   "version": "3.12.0"
  }
 },
 "nbformat": 4,
 "nbformat_minor": 2
}
