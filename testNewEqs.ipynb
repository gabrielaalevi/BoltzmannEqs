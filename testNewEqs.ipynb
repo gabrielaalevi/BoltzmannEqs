{
 "cells": [
  {
   "cell_type": "code",
   "execution_count": 1,
   "metadata": {},
   "outputs": [],
   "source": [
    "import numpy as np\n",
    "from scipy.integrate import odeint\n",
    "from matplotlib import pyplot as plt\n",
    "from auxFunc import entropydensity\n",
    "from scipy.special import kn, zeta\n"
   ]
  },
  {
   "cell_type": "code",
   "execution_count": 16,
   "metadata": {},
   "outputs": [
    {
     "name": "stdout",
     "output_type": "stream",
     "text": [
      "-F(x)*G(x)**2 - 2*F(x)*G(x)*Yeq(x) - dYeqdx(x) + 2*F(x)*G(x)*Yeq(x)/(F(x)*Yeq(x) + 1) + 2*F(x)*Yeq(x)**2/(F(x)*Yeq(x) + 1) + dYeqdx(x)/(F(x)*Yeq(x) + 1) - F(x)*Yeq(x)**2/(F(x)*Yeq(x) + 1)**2 - F(x)*Yeq(x)*dYeqdx(x)/(F(x)*Yeq(x) + 1)**2 - Yeq(x)**2*dFdx(x)/(F(x)*Yeq(x) + 1)**2\n",
      "-fg**2 - 2*fg*yeq - dYeqdx(x) + 2*fg*yeq*t0 + 2*F(x)*yeq**2*t0 + dYeqdx(x)*t0 - F(x)*yeq**2*t0**2 - F(x)*yeq*dYeqdx(x)*t0**2 - yeq**2*dFdx(x)*t0**2\n"
     ]
    }
   ],
   "source": [
    "from sympy.parsing.mathematica import parse_mathematica\n",
    "from sympy import var\n",
    "x = var('x')\n",
    "expr = \"-(F[x]*G[x]^2) - 2*F[x]*G[x]*Yeq[x] - (F[x]*Yeq[x]^2)/(1 + F[x]*Yeq[x])^2 + (2*F[x]*G[x]*Yeq[x])/(1 + F[x]*Yeq[x]) + (2*F[x]*Yeq[x]^2)/(1 + F[x]*Yeq[x]) -  (Yeq[x]^2*Derivative[1][F][x])/(1 + F[x]*Yeq[x])^2 - Derivative[1][Yeq][x] - (F[x]*Yeq[x]*Derivative[1][Yeq][x])/(1 + F[x]*Yeq[x])^2 +  Derivative[1][Yeq][x]/(1 + F[x]*Yeq[x])\"\n",
    "expr = expr.replace('Derivative[1][F][x]','dFdx[x]').replace('Derivative[1][Yeq][x]','dYeqdx[x]')\n",
    "python_code = parse_mathematica(expr)\n",
    "print(python_code)\n",
    "python_simp = str(python_code).replace('F(x)*G(x)','fg').replace(\"/(F(x)*Yeq(x) + 1)\",\"*t0\").replace(\"Yeq(x)\",\"yeq\")\n",
    "print(python_simp)"
   ]
  },
  {
   "cell_type": "code",
   "execution_count": 28,
   "metadata": {},
   "outputs": [],
   "source": [
    "def Yeq(x):\n",
    "    #m represents particle's mass, T is temperature in GeV, g represents the particle's degrees of freedom, \n",
    "    #and s represents entropy density.\n",
    "    m = 1.0\n",
    "    mDM = 1.0\n",
    "    g = 1.0\n",
    "    T = mDM/x\n",
    "\n",
    "    g_star = 1.0 #g_* is the number of relativistic degrees of freedom\n",
    "    s = 1/x**3 #entropy density\n",
    "    if (m/T)>10: #non-relativistic regime\n",
    "        Y_eq = (45/(4 * np.pi**4)) * (abs(g)/g_star) * (m/T)**(1.5) * np.sqrt(np.pi/2) * np.exp(-m/T) * (1 + (15/(8 * (m/T))) + 105/(128 * (m/T)**2) - (315/(1024 * (m/T)**3) )) #(abs(g) * (m * T/ (2 * np.pi))**(3/2) * np.exp(-m/T))/s\n",
    "    if (m/T)>(2/3): #semi-relativistic regime\n",
    "        Y_eq = ((abs(g)/(2 * np.pi**2)) * ( T * m**2)* kn(2, m/T)/s) #(45 * abs(g) * (m/T)**2 * kn(2,(m/T)))/(4 * np.pi**4 * g_star)\n",
    "    elif (m/T)<=(2/3): #relativistic regime\n",
    "        if g > 0: #fermions\n",
    "           Y_eq = ((3/4) * (zeta(3)/np.pi**2) * abs(g) * (T)**3)/s\n",
    "        if g < 0: #bosons\n",
    "            Y_eq = ((zeta(3)/np.pi**2) * abs(g) * (T)**3)/s\n",
    "    return Y_eq\n",
    "\n",
    "def F(x):\n",
    "\n",
    "    return 1e6/x**2\n",
    "\n",
    "def dYeqdx(x):\n",
    "\n",
    "    dx = 1e-2\n",
    "    return (Yeq(x+dx)-Yeq(x))/dx\n",
    "\n",
    "def dFdx(x):\n",
    "\n",
    "    return (-2/x**3)*F(1)\n",
    "\n",
    "def YtoG(Y,x):\n",
    "    f = F(x)\n",
    "    t1 = f/(1+f)\n",
    "    return Y - Yeq(x)*t1\n",
    "\n",
    "def GtoY(G,x):\n",
    "    f = F(x)\n",
    "    return G + Yeq(x)*(1-1/(1+f))\n",
    "\n",
    "def dYdx(Y,x):\n",
    "\n",
    "    f = F(x)\n",
    "    \n",
    "    return f*(Yeq(x)**2 - Y**2)\n",
    "\n"
   ]
  },
  {
   "cell_type": "code",
   "execution_count": 29,
   "metadata": {},
   "outputs": [],
   "source": [
    "def dGdx(G,x):\n",
    "\n",
    "    f = F(x)\n",
    "    yeq = Yeq(x)\n",
    "    fg = f*G\n",
    "    \n",
    "    t0 = 1/(1+f)\n",
    "    t1 = f*t0\n",
    "    t12 = f*t0**2\n",
    "     \n",
    "    \n",
    "    \n",
    "    \n",
    "\n",
    "    d = -fg*G -2*fg*yeq + 2*t1*G*yeq + (2*t1-t12)*yeq**2 - t0**2*yeq*dFdx(x) - dYeqdx(x)*(t0-1) \n",
    "\n",
    "    d = -fg**2 - 2*fg*yeq - dYeqdx(x) + 2*fg*yeq*t0 + 2*F(x)*yeq**2*t0 + dYeqdx(x)*t0 - F(x)*yeq**2*t0**2 - F(x)*yeq*dYeqdx(x)*t0**2 - yeq**2*dFdx(x)*t0**2\n",
    "    return d"
   ]
  },
  {
   "cell_type": "code",
   "execution_count": 35,
   "metadata": {},
   "outputs": [
    {
     "name": "stdout",
     "output_type": "stream",
     "text": [
      "0.08231530021891433 1000000.0 -0.03053823792535937 -2000000.0 8.231521790580398e-08 -0.030538042757227768\n"
     ]
    }
   ],
   "source": [
    "x0 = 1.0\n",
    "Y0 = Yeq(x0)\n",
    "G0 = YtoG(Y0,x0)\n",
    "xvals = np.linspace(x0,30.,10000)\n",
    "\n",
    "print(Yeq(x0),F(x0),dYeqdx(x0),dFdx(x0),G0,dGdx(G0,x0))"
   ]
  },
  {
   "cell_type": "code",
   "execution_count": 36,
   "metadata": {},
   "outputs": [
    {
     "name": "stderr",
     "output_type": "stream",
     "text": [
      "/tmp/ipykernel_8481/1319275201.py:1: ODEintWarning: Excess work done on this call (perhaps wrong Dfun type). Run with full_output = 1 to get quantitative information.\n",
      "  G_sol = odeint(dGdx,G0,xvals)\n"
     ]
    }
   ],
   "source": [
    "G_sol = odeint(dGdx,G0,xvals)\n",
    "Y_sol0 = odeint(dYdx,Y0,xvals)"
   ]
  },
  {
   "cell_type": "code",
   "execution_count": 37,
   "metadata": {},
   "outputs": [
    {
     "name": "stderr",
     "output_type": "stream",
     "text": [
      "/tmp/ipykernel_8481/4249881294.py:12: RuntimeWarning: overflow encountered in multiply\n",
      "  d = -fg*G -2*fg*yeq + 2*t1*G*yeq + (2*t1-t12)*yeq**2 - t0**2*yeq*dFdx(x) - dYeqdx(x)*(t0-1)\n"
     ]
    }
   ],
   "source": [
    "Y_sol = [GtoY(G,x) for G,x in zip(G_sol,xvals)]\n",
    "Y_eq = [Yeq(x) for x in xvals]\n",
    "dGdx_sol = [dGdx(G,x) for G,x in zip(G_sol,xvals)]\n",
    "dYdx_sol = [dYdx(Y,x) for Y,x in zip(Y_sol0,xvals)]"
   ]
  },
  {
   "cell_type": "code",
   "execution_count": 38,
   "metadata": {},
   "outputs": [
    {
     "data": {
      "image/png": "[encoded data removed]",
      "text/plain": [
       "<Figure size 640x480 with 1 Axes>"
      ]
     },
     "metadata": {},
     "output_type": "display_data"
    }
   ],
   "source": [
    "plt.plot(xvals,Y_sol,label='Y from dGdx')\n",
    "plt.plot(xvals,Y_sol0,label='Y from dYdx')\n",
    "plt.plot(xvals,Y_eq,linestyle='dashed',label='Yeq')\n",
    "# plt.plot(xvals,dGdx_sol,linestyle='dotted',label='dGdx')\n",
    "# plt.plot(xvals,dYdx_sol,linestyle='dotted',label='dYdx')\n",
    "\n",
    "plt.legend()\n",
    "plt.yscale('log')\n",
    "plt.xscale('log')\n",
    "# plt.ylim(1e-10,1e-1)\n",
    "plt.show()"
   ]
  },
  {
   "cell_type": "code",
   "execution_count": null,
   "metadata": {},
   "outputs": [],
   "source": []
  }
 ],
 "metadata": {
  "kernelspec": {
   "display_name": "Python 3",
   "language": "python",
   "name": "python3"
  },
  "language_info": {
   "codemirror_mode": {
    "name": "ipython",
    "version": 3
   },
   "file_extension": ".py",
   "mimetype": "text/x-python",
   "name": "python",
   "nbconvert_exporter": "python",
   "pygments_lexer": "ipython3",
   "version": "3.12.3"
  }
 },
 "nbformat": 4,
 "nbformat_minor": 2
}
