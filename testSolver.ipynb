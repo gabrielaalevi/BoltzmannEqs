{
 "cells": [
  {
   "cell_type": "code",
   "execution_count": 1,
   "metadata": {},
   "outputs": [],
   "source": [
    "from modelData import ModelData\n",
    "from boltz.boltzmannEq import boltz, computeCollisionTerms,computeDecayTerms\n",
    "from scipy.integrate import solve_ivp,odeint\n",
    "import numpy as np\n",
    "from matplotlib import pyplot as plt\n",
    "from tools.configParserWrapper import ConfigParserExt\n",
    "import os\n",
    "from tools.logger import setLogLevel"
   ]
  },
  {
   "cell_type": "markdown",
   "metadata": {},
   "source": [
    "### Load input parameters"
   ]
  },
  {
   "cell_type": "code",
   "execution_count": 2,
   "metadata": {},
   "outputs": [],
   "source": [
    "parfile = './input_parameters.ini'\n",
    "parser = ConfigParserExt(inline_comment_prefixes=\"#\")   \n",
    "ret = parser.read(parfile)\n",
    "parser = parser.expandLoops()[0]\n",
    "parserDict = parser.toDict(raw=False)"
   ]
  },
  {
   "cell_type": "code",
   "execution_count": 3,
   "metadata": {},
   "outputs": [],
   "source": [
    "pars = parser['SolverParameters']\n",
    "atol = pars['atol']\n",
    "rtol = pars['rtol']\n",
    "T0 = pars['T0']\n",
    "Tf = pars['Tf']\n",
    "method = pars['method']\n",
    "nsteps = pars['nsteps']\n",
    "outputFolder = os.path.abspath(parser['Options']['outputFolder'])\n",
    "paramCard = os.path.join(outputFolder,'Cards','param_card.dat')\n",
    "sigmaVFile = os.path.join(outputFolder,'output','taacs.csv')\n",
    "dm = parser['Model']['darkmatter']\n",
    "bsmList = []\n",
    "if 'bsmParticles' in parser['Model']:\n",
    "    bsmList = str(parser['Model']['bsmParticles']).split(',')\n",
    "model = ModelData(dmPDG=dm, bsmPDGList=bsmList, paramCard=paramCard, sigmaVfile=sigmaVFile)\n",
    "    \n",
    "\n",
    "compDict = model.componentsDict\n",
    "mDM = compDict[model.dmPDG].mass\n",
    "x0 = mDM/T0\n",
    "xf = mDM/Tf    \n"
   ]
  },
  {
   "cell_type": "code",
   "execution_count": 4,
   "metadata": {},
   "outputs": [],
   "source": [
    "# Set initila conditions\n",
    "initialCond = pars['initialConditions']    \n",
    "y0 = np.zeros(len(model.componentsDict))\n",
    "for label,comp_y0 in initialCond.items():\n",
    "    pdg = model.convert2PDG(label)\n",
    "    comp = compDict[pdg]\n",
    "    if isinstance(comp_y0,float):\n",
    "        y0[comp.ID] = y0\n",
    "    elif comp_y0.lower() in ['eq', 'equilibrium']:\n",
    "        y0[comp.ID] = comp.Yeq(T0)\n",
    "    \n",
    "xvals = np.linspace(x0,xf,nsteps)"
   ]
  },
  {
   "cell_type": "code",
   "execution_count": 5,
   "metadata": {},
   "outputs": [],
   "source": [
    "# Initial conditions\n",
    "x0, xf = 0.1,5.0\n",
    "setLogLevel('info')"
   ]
  },
  {
   "cell_type": "markdown",
   "metadata": {},
   "source": [
    "### Check terms in initial conditions"
   ]
  },
  {
   "cell_type": "code",
   "execution_count": 6,
   "metadata": {},
   "outputs": [
    {
     "name": "stdout",
     "output_type": "stream",
     "text": [
      "SM 0.0 0.2776566338315371\n",
      "xd 0.007802996735312518 0.007802996735312518\n"
     ]
    }
   ],
   "source": [
    "for comp in compDict.values():\n",
    "    print(comp,y0[comp.ID],comp.Yeq(mDM/x0))"
   ]
  },
  {
   "cell_type": "code",
   "execution_count": 7,
   "metadata": {},
   "outputs": [
    {
     "name": "stdout",
     "output_type": "stream",
     "text": [
      "[{}, {'xdxdx_bbx': np.float64(-6.418737385366042e-26), 'xdxdx_ttx': np.float64(-6.418737385366042e-26)}]\n",
      "[[0. 0.]\n",
      " [0. 0.]]\n"
     ]
    }
   ],
   "source": [
    "coll = computeCollisionTerms(x0,y0,model)\n",
    "dec = computeDecayTerms(x0,y0,model)\n",
    "print(coll)\n",
    "print(dec)"
   ]
  },
  {
   "cell_type": "code",
   "execution_count": 8,
   "metadata": {},
   "outputs": [
    {
     "name": "stdout",
     "output_type": "stream",
     "text": [
      "Process xdxdx_bbx : sigmav = 1.0542090909090905e-21\n",
      "Process xdxdx_ttx : sigmav = 1.0542090909090905e-21\n",
      "Process xdxdx_b1b1x : sigmav = 0.0\n",
      "Process b1xd_gb : sigmav = -4.003000000000014e-16\n",
      "Process b1xxdx_gbx : sigmav = -4.003000000000014e-16\n",
      "Process b1xd_ab : sigmav = -4.003000000000014e-16\n",
      "Process b1xxdx_abx : sigmav = -4.003000000000014e-16\n",
      "Process b1xd_bz : sigmav = -4.003000000000014e-16\n",
      "Process b1xxdx_bxz : sigmav = -4.003000000000014e-16\n",
      "Process b1xd_twm : sigmav = -4.003000000000014e-16\n",
      "Process b1xxdx_txwp : sigmav = -4.003000000000014e-16\n",
      "Process b1b1x_bbx : sigmav = 9.68227272727273e-10\n",
      "Process b1b1_bb : sigmav = 9.68227272727273e-10\n",
      "Process b1xb1x_bxbx : sigmav = 9.68227272727273e-10\n",
      "Process b1b1x_gg : sigmav = 9.68227272727273e-10\n",
      "Process b1b1x_wpwm : sigmav = 9.68227272727273e-10\n",
      "Process b1b1x_ga : sigmav = 9.68227272727273e-10\n",
      "Process b1b1x_gz : sigmav = 9.68227272727273e-10\n",
      "Process b1b1x_aa : sigmav = 9.68227272727273e-10\n",
      "Process b1b1x_az : sigmav = 9.68227272727273e-10\n",
      "Process b1b1x_ddx : sigmav = 9.68227272727273e-10\n",
      "Process b1b1x_uux : sigmav = 9.68227272727273e-10\n",
      "Process b1b1x_ssx : sigmav = 9.68227272727273e-10\n",
      "Process b1b1x_ccx : sigmav = 9.68227272727273e-10\n",
      "Process b1b1x_ttx : sigmav = 9.68227272727273e-10\n",
      "Process b1b1x_zz : sigmav = 9.68227272727273e-10\n",
      "Process b1b1x_emep : sigmav = 9.68227272727273e-10\n",
      "Process b1b1x_tamtap : sigmav = 9.68227272727273e-10\n",
      "Process b1b1x_vevex : sigmav = 9.68227272727273e-10\n",
      "Process b1b1x_zh : sigmav = 9.68227272727273e-10\n",
      "Process b1b1x_xdxdx : sigmav = 0.0\n"
     ]
    }
   ],
   "source": [
    "for process in model.collisionProcesses:\n",
    "    sigma = process.sigmaV(x0)\n",
    "    print(f'Process {process.name} : sigmav = {sigma}')"
   ]
  },
  {
   "cell_type": "markdown",
   "metadata": {},
   "source": [
    "### Solve equations"
   ]
  },
  {
   "cell_type": "code",
   "execution_count": null,
   "metadata": {},
   "outputs": [
    {
     "name": "stderr",
     "output_type": "stream",
     "text": [
      "/home/lessa/BoltzmannEqs/boltz/boltzmannEq.py:55: RuntimeWarning: divide by zero encountered in scalar divide\n",
      "  Yratio[comp.ID] = Y[comp.ID]/comp.Yeq(T)\n",
      "/home/lessa/BoltzmannEqs/boltz/boltzmannEq.py:81: RuntimeWarning: overflow encountered in scalar multiply\n",
      "  r = Yratio[c]*Yratio[d]/(Yratio[a]*Yratio[b])\n"
     ]
    }
   ],
   "source": [
    "xvals = np.linspace(x0,xf,100)\n",
    "#solving the Boltzmann equation\n",
    "# sol = solve_ivp(boltz, [x0,xf], y0, args=(model,), atol = atol, rtol = rtol, method='BDF')\n",
    "Yf_sol = [y0]\n",
    "for x in xvals[1:]:\n",
    "    Yf_sol.append(solve_ivp(boltz, [x0,x], y0, args=(model,), atol = atol, rtol = rtol, method='BDF').y[-1])\n",
    "    y0 = Yf_sol[-1]\n",
    "    x0 = x\n",
    "# Yf_sol = np.array(Yf_sol).transpose()\n",
    "\n",
    "# from scipy import integrate\n",
    "# ode15s = integrate.ode(boltz)\n",
    "# ode15s.set_integrator('vode', method='bdf', order=15)\n",
    "# ode15s.set_initial_value(y0, x0)\n",
    "# ode15s.set_f_params(model)\n",
    "\n",
    "# Yf_sol = [y0]\n",
    "\n",
    "# for x in xvals[1:]:\n",
    "#     print(x)\n",
    "#     Yf_sol.append(ode15s.integrate(x))\n",
    "# Yf_sol = np.array(Yf_sol).transpose()"
   ]
  },
  {
   "cell_type": "code",
   "execution_count": 10,
   "metadata": {},
   "outputs": [
    {
     "data": {
      "text/plain": [
       "  message: The solver successfully reached the end of the integration interval.\n",
       "  success: True\n",
       "   status: 0\n",
       "        t: [ 1.000e-01  1.000e-01 ...  4.980e+00  5.000e+00]\n",
       "        y: [[ 2.777e-01  2.777e-01 ...  2.777e-01  2.777e-01]\n",
       "            [ 7.803e-03  7.803e-03 ... -1.022e+07 -1.023e+07]]\n",
       "      sol: None\n",
       " t_events: None\n",
       " y_events: None\n",
       "     nfev: 962\n",
       "     njev: 42\n",
       "      nlu: 142"
      ]
     },
     "execution_count": 10,
     "metadata": {},
     "output_type": "execute_result"
    }
   ],
   "source": [
    "sol"
   ]
  },
  {
   "cell_type": "code",
   "execution_count": 12,
   "metadata": {},
   "outputs": [
    {
     "data": {
      "text/plain": [
       "(2, 318)"
      ]
     },
     "execution_count": 12,
     "metadata": {},
     "output_type": "execute_result"
    }
   ],
   "source": [
    "sol.y.shape\n",
    "# Yf_sol.shape"
   ]
  },
  {
   "cell_type": "code",
   "execution_count": 13,
   "metadata": {},
   "outputs": [
    {
     "data": {
      "image/png": "[encoded data removed]",
      "text/plain": [
       "<Figure size 640x480 with 1 Axes>"
      ]
     },
     "metadata": {},
     "output_type": "display_data"
    }
   ],
   "source": [
    "for comp in compDict.values():\n",
    "    if comp.ID == 0: continue\n",
    "    plt.plot(sol.t,sol.y[comp.ID,:],label=f'Y({comp.label})')\n",
    "    # plt.plot(xvals,Yf_sol[comp.ID,:],label=f'Y({comp.label})')\n",
    "\n",
    "plt.legend()\n",
    "# plt.yscale('log')\n",
    "plt.xscale('log')\n",
    "# plt.ylim(1e-10,1e-1)\n",
    "# plt.ylim(1e-4,10)\n",
    "plt.grid()\n",
    "# plt.title(r'$Y_{f} = $%1.3e (from dYdx), %1.3e (from dGdx)' %(Y_sol0[-1][0],Y_sol[-1][0]))\n",
    "plt.show()"
   ]
  },
  {
   "cell_type": "code",
   "execution_count": null,
   "metadata": {},
   "outputs": [
    {
     "ename": "IndexError",
     "evalue": "index 2 is out of bounds for axis 0 with size 2",
     "output_type": "error",
     "traceback": [
      "\u001b[0;31m---------------------------------------------------------------------------\u001b[0m",
      "\u001b[0;31mIndexError\u001b[0m                                Traceback (most recent call last)",
      "Cell \u001b[0;32mIn[12], line 1\u001b[0m\n\u001b[0;32m----> 1\u001b[0m \u001b[43mYf_sol\u001b[49m\u001b[43m[\u001b[49m\u001b[38;5;241;43m2\u001b[39;49m\u001b[43m,\u001b[49m\u001b[43m:\u001b[49m\u001b[43m]\u001b[49m\n",
      "\u001b[0;31mIndexError\u001b[0m: index 2 is out of bounds for axis 0 with size 2"
     ]
    }
   ],
   "source": [
    "Yf_sol[2,:]"
   ]
  },
  {
   "cell_type": "code",
   "execution_count": null,
   "metadata": {},
   "outputs": [],
   "source": []
  }
 ],
 "metadata": {
  "kernelspec": {
   "display_name": "Python 3",
   "language": "python",
   "name": "python3"
  },
  "language_info": {
   "codemirror_mode": {
    "name": "ipython",
    "version": 3
   },
   "file_extension": ".py",
   "mimetype": "text/x-python",
   "name": "python",
   "nbconvert_exporter": "python",
   "pygments_lexer": "ipython3",
   "version": "3.12.3"
  }
 },
 "nbformat": 4,
 "nbformat_minor": 2
}
