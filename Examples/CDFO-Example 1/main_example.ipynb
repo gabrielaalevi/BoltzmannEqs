{
 "cells": [
  {
   "cell_type": "code",
   "execution_count": null,
   "metadata": {},
   "outputs": [],
   "source": [
    "from boltzSolver import solt, Y, name_file\n",
    "import matplotlib.pyplot as plt\n",
    "\n",
    "plt.plot(solt, Y[1][:], label='DM')\n",
    "plt.plot(solt, Y[3][:], label='b2')\n",
    "plt.plot(solt, Y[2][:], label='DM equilibrium', linestyle='dashed')\n",
    "plt.plot(solt, Y[4][:], label='b2 equilibrium', linestyle='dashed')\n",
    "plt.legend()\n",
    "plt.yscale('log')\n",
    "plt.xscale('log')\n",
    "plt.title('Yield variation in a CDFO model')\n",
    "plt.xlabel('x (m_DM/T)')\n",
    "plt.ylabel('Yield')\n",
    "name = name_file + ' graph'\n",
    "plt.savefig(name)"
   ]
  }
 ],
 "metadata": {
  "kernelspec": {
   "display_name": "Python 3",
   "language": "python",
   "name": "python3"
  },
  "language_info": {
   "name": "python",
   "version": "3.12.5"
  }
 },
 "nbformat": 4,
 "nbformat_minor": 2
}
