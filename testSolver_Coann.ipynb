{
 "cells": [
  {
   "cell_type": "code",
   "execution_count": 1,
   "metadata": {},
   "outputs": [],
   "source": [
    "from tools.modelData import ModelData\n",
    "from boltz.boltzmannEq import dYdx, computeCollisionTerms,computeDecayTerms\n",
    "from scipy.integrate import solve_ivp\n",
    "import numpy as np\n",
    "from matplotlib import pyplot as plt\n",
    "from tools.configParserWrapper import ConfigParserExt\n",
    "import os\n",
    "from tools.logger import setLogLevel"
   ]
  },
  {
   "cell_type": "markdown",
   "metadata": {},
   "source": [
    "### Load input parameters"
   ]
  },
  {
   "cell_type": "code",
   "execution_count": 2,
   "metadata": {},
   "outputs": [],
   "source": [
    "parfile = './input_parameters_Coann.ini'\n",
    "parser = ConfigParserExt(inline_comment_prefixes=\"#\")   \n",
    "ret = parser.read(parfile)\n",
    "parser = parser.expandLoops()[0]\n",
    "parserDict = parser.toDict(raw=False)"
   ]
  },
  {
   "cell_type": "code",
   "execution_count": 3,
   "metadata": {},
   "outputs": [],
   "source": [
    "pars = parser['SolverParameters']\n",
    "atol = 0.0\n",
    "rtol = 1e-4\n",
    "T0 = pars['T0']\n",
    "Tf = pars['Tf']\n",
    "method = 'Radau'\n",
    "nsteps = pars['nsteps']\n",
    "outputFolder = os.path.abspath(parser['Options']['outputFolder'])\n",
    "bannerFile = os.path.join(outputFolder,'darkcalc_banner.txt')\n",
    "dm = parser['Model']['darkmatter']\n",
    "bsmList = []\n",
    "if 'bsmParticles' in parser['Model']:\n",
    "    bsmList = str(parser['Model']['bsmParticles']).split(',')\n",
    "model = ModelData(dmPDG=dm, bsmPDGList=bsmList, bannerFile=bannerFile)\n",
    "    \n",
    "\n",
    "compDict = model.componentsDict\n",
    "mDM = compDict[model.dmPDG].mass\n",
    "x0 = mDM/T0\n",
    "xf = mDM/Tf  \n",
    "xvals = np.geomspace(x0,xf,1000)  \n"
   ]
  },
  {
   "cell_type": "code",
   "execution_count": 4,
   "metadata": {},
   "outputs": [],
   "source": [
    "# Set initila conditions\n",
    "y0 = np.array([comp.Yeq(T0) for comp in compDict.values()])    \n",
    "if 'initialConditions' in pars:\n",
    "    # Set initila conditions\n",
    "    initialCond = pars['initialConditions']    \n",
    "    for label,comp_y0 in initialCond.items():\n",
    "        pdg = model.convert2PDG(label)\n",
    "        comp = compDict[pdg]            \n",
    "        if isinstance(comp_y0,float):\n",
    "            y0[comp.ID] = y0\n",
    "        elif comp_y0.lower() in ['eq', 'equilibrium']:\n",
    "            continue # Already set\n"
   ]
  },
  {
   "cell_type": "markdown",
   "metadata": {},
   "source": [
    "### Check terms in initial conditions"
   ]
  },
  {
   "cell_type": "code",
   "execution_count": 5,
   "metadata": {},
   "outputs": [
    {
     "name": "stdout",
     "output_type": "stream",
     "text": [
      "SM 0.27765663383153705 0.27765663383153705\n",
      "b1 0.0105278807117368 0.0105278807117368\n",
      "xd 0.007802996735312517 0.007802996735312517\n"
     ]
    }
   ],
   "source": [
    "for comp in compDict.values():\n",
    "    print(comp,y0[comp.ID],comp.Yeq(mDM/x0))"
   ]
  },
  {
   "cell_type": "code",
   "execution_count": 6,
   "metadata": {},
   "outputs": [
    {
     "name": "stdout",
     "output_type": "stream",
     "text": [
      "[{}, {'b1xd_gb': 0.0, 'b1xxdx_gbx': 0.0, 'b1xd_ab': 0.0, 'b1xxdx_abx': 0.0, 'b1xd_bz': 0.0, 'b1xxdx_bxz': 0.0, 'b1xd_twm': 0.0, 'b1xxdx_txwp': 0.0, 'b1b1x_bbx': 0.0, 'b1b1_bb': 0.0, 'b1xb1x_bxbx': 0.0, 'b1b1x_gg': 0.0, 'b1b1x_wpwm': 0.0, 'b1b1x_ga': 0.0, 'b1b1x_gz': 0.0, 'b1b1x_aa': 0.0, 'b1b1x_az': 0.0, 'b1b1x_ddx': 0.0, 'b1b1x_uux': 0.0, 'b1b1x_ssx': 0.0, 'b1b1x_ccx': 0.0, 'b1b1x_ttx': 0.0, 'b1b1x_zz': 0.0, 'b1b1x_emep': 0.0, 'b1b1x_tamtap': 0.0, 'b1b1x_vevex': 0.0, 'b1b1x_zh': 0.0}, {'xdxdx_bbx': 0.0, 'xdxdx_ttx': 0.0, 'b1xd_gb': 0.0, 'b1xxdx_gbx': 0.0, 'b1xd_ab': 0.0, 'b1xxdx_abx': 0.0, 'b1xd_bz': 0.0, 'b1xxdx_bxz': 0.0, 'b1xd_twm': 0.0, 'b1xxdx_txwp': 0.0}]\n",
      "[{'decay': 0.0, 'injection': 0.0}, {'decay': 0.0, 'injection': 0.0}, {'decay': 0.0, 'injection': 0.0}]\n"
     ]
    }
   ],
   "source": [
    "coll = computeCollisionTerms(x0,y0,model)\n",
    "dec = computeDecayTerms(x0,y0,model)\n",
    "print(coll)\n",
    "print(dec)"
   ]
  },
  {
   "cell_type": "code",
   "execution_count": 7,
   "metadata": {},
   "outputs": [],
   "source": [
    "# for process in model.collisionProcesses:\n",
    "#     sigma = process.sigmaV(x0)\n",
    "#     print(f'Process {process.name} : sigmav = {sigma}')"
   ]
  },
  {
   "cell_type": "code",
   "execution_count": 8,
   "metadata": {},
   "outputs": [
    {
     "name": "stdout",
     "output_type": "stream",
     "text": [
      "[0. 0. 0.]\n"
     ]
    }
   ],
   "source": [
    "print(dYdx(x0,y0,model))"
   ]
  },
  {
   "cell_type": "markdown",
   "metadata": {},
   "source": [
    "### Solve equations"
   ]
  },
  {
   "cell_type": "code",
   "execution_count": 9,
   "metadata": {},
   "outputs": [
    {
     "name": "stdout",
     "output_type": "stream",
     "text": [
      " lsoda--  at t (=r1) and step size h (=r2), the    \u0000\u0000\n",
      "       corrector convergence failed repeatedly     \u0000\u0000\n",
      "       or with abs(h) = hmin   \u0000l\n",
      "      in above,  r1 =  0.6446727989584D+00   r2 =  0.4607063316141D-11\n"
     ]
    },
    {
     "name": "stderr",
     "output_type": "stream",
     "text": [
      "/usr/lib/python3/dist-packages/scipy/integrate/_ivp/lsoda.py:161: UserWarning: lsoda: Repeated convergence failures (perhaps bad Jacobian or tolerances).\n",
      "  solver._y, solver.t = integrator.run(\n"
     ]
    },
    {
     "ename": "ValueError",
     "evalue": "all the input arrays must have same number of dimensions, but the array at index 0 has 2 dimension(s) and the array at index 1 has 1 dimension(s)",
     "output_type": "error",
     "traceback": [
      "\u001b[0;31m---------------------------------------------------------------------------\u001b[0m",
      "\u001b[0;31mValueError\u001b[0m                                Traceback (most recent call last)",
      "Cell \u001b[0;32mIn[9], line 8\u001b[0m\n\u001b[1;32m      5\u001b[0m x \u001b[38;5;241m=\u001b[39m sol\u001b[38;5;241m.\u001b[39mt[:]\n\u001b[1;32m      6\u001b[0m sol \u001b[38;5;241m=\u001b[39m solve_ivp(dYdx, [sol\u001b[38;5;241m.\u001b[39mt[\u001b[38;5;241m-\u001b[39m\u001b[38;5;241m1\u001b[39m],\u001b[38;5;241m11\u001b[39m], sol\u001b[38;5;241m.\u001b[39my[:,\u001b[38;5;241m-\u001b[39m\u001b[38;5;241m1\u001b[39m], args\u001b[38;5;241m=\u001b[39m(model,), atol \u001b[38;5;241m=\u001b[39m \u001b[38;5;241m10\u001b[39m\u001b[38;5;241m*\u001b[39m\u001b[38;5;241m*\u001b[39m(\u001b[38;5;241m-\u001b[39m\u001b[38;5;241m12\u001b[39m), rtol \u001b[38;5;241m=\u001b[39m \u001b[38;5;241m10\u001b[39m\u001b[38;5;241m*\u001b[39m\u001b[38;5;241m*\u001b[39m(\u001b[38;5;241m-\u001b[39m\u001b[38;5;241m12\u001b[39m), method\u001b[38;5;241m=\u001b[39m\u001b[38;5;124m'\u001b[39m\u001b[38;5;124mLSODA\u001b[39m\u001b[38;5;124m'\u001b[39m, max_step \u001b[38;5;241m=\u001b[39m \u001b[38;5;241m0.08\u001b[39m,\n\u001b[1;32m      7\u001b[0m                 t_eval\u001b[38;5;241m=\u001b[39mnp\u001b[38;5;241m.\u001b[39mgeomspace(\u001b[38;5;241m9\u001b[39m,\u001b[38;5;241m11\u001b[39m,\u001b[38;5;241m50\u001b[39m))\n\u001b[0;32m----> 8\u001b[0m y \u001b[38;5;241m=\u001b[39m \u001b[43mnp\u001b[49m\u001b[38;5;241;43m.\u001b[39;49m\u001b[43mhstack\u001b[49m\u001b[43m(\u001b[49m\u001b[43m(\u001b[49m\u001b[43my\u001b[49m\u001b[43m,\u001b[49m\u001b[43msol\u001b[49m\u001b[38;5;241;43m.\u001b[39;49m\u001b[43my\u001b[49m\u001b[43m)\u001b[49m\u001b[43m)\u001b[49m\n\u001b[1;32m      9\u001b[0m x \u001b[38;5;241m=\u001b[39m np\u001b[38;5;241m.\u001b[39mhstack((x,sol\u001b[38;5;241m.\u001b[39mt))\n\u001b[1;32m     10\u001b[0m sol \u001b[38;5;241m=\u001b[39m solve_ivp(dYdx, [sol\u001b[38;5;241m.\u001b[39mt[\u001b[38;5;241m-\u001b[39m\u001b[38;5;241m1\u001b[39m],\u001b[38;5;241m28\u001b[39m], sol\u001b[38;5;241m.\u001b[39my[:,\u001b[38;5;241m-\u001b[39m\u001b[38;5;241m1\u001b[39m], args\u001b[38;5;241m=\u001b[39m(model,), atol \u001b[38;5;241m=\u001b[39m \u001b[38;5;241m10\u001b[39m\u001b[38;5;241m*\u001b[39m\u001b[38;5;241m*\u001b[39m(\u001b[38;5;241m-\u001b[39m\u001b[38;5;241m13\u001b[39m), rtol \u001b[38;5;241m=\u001b[39m \u001b[38;5;241m10\u001b[39m\u001b[38;5;241m*\u001b[39m\u001b[38;5;241m*\u001b[39m(\u001b[38;5;241m-\u001b[39m\u001b[38;5;241m13\u001b[39m), method\u001b[38;5;241m=\u001b[39m\u001b[38;5;124m'\u001b[39m\u001b[38;5;124mLSODA\u001b[39m\u001b[38;5;124m'\u001b[39m, max_step \u001b[38;5;241m=\u001b[39m \u001b[38;5;241m0.08\u001b[39m,\n\u001b[1;32m     11\u001b[0m                 t_eval\u001b[38;5;241m=\u001b[39mnp\u001b[38;5;241m.\u001b[39mgeomspace(\u001b[38;5;241m11\u001b[39m,\u001b[38;5;241m28\u001b[39m,\u001b[38;5;241m50\u001b[39m))\n",
      "File \u001b[0;32m/usr/lib/python3/dist-packages/numpy/core/shape_base.py:359\u001b[0m, in \u001b[0;36mhstack\u001b[0;34m(tup, dtype, casting)\u001b[0m\n\u001b[1;32m    357\u001b[0m     \u001b[38;5;28;01mreturn\u001b[39;00m _nx\u001b[38;5;241m.\u001b[39mconcatenate(arrs, \u001b[38;5;241m0\u001b[39m, dtype\u001b[38;5;241m=\u001b[39mdtype, casting\u001b[38;5;241m=\u001b[39mcasting)\n\u001b[1;32m    358\u001b[0m \u001b[38;5;28;01melse\u001b[39;00m:\n\u001b[0;32m--> 359\u001b[0m     \u001b[38;5;28;01mreturn\u001b[39;00m \u001b[43m_nx\u001b[49m\u001b[38;5;241;43m.\u001b[39;49m\u001b[43mconcatenate\u001b[49m\u001b[43m(\u001b[49m\u001b[43marrs\u001b[49m\u001b[43m,\u001b[49m\u001b[43m \u001b[49m\u001b[38;5;241;43m1\u001b[39;49m\u001b[43m,\u001b[49m\u001b[43m \u001b[49m\u001b[43mdtype\u001b[49m\u001b[38;5;241;43m=\u001b[39;49m\u001b[43mdtype\u001b[49m\u001b[43m,\u001b[49m\u001b[43m \u001b[49m\u001b[43mcasting\u001b[49m\u001b[38;5;241;43m=\u001b[39;49m\u001b[43mcasting\u001b[49m\u001b[43m)\u001b[49m\n",
      "\u001b[0;31mValueError\u001b[0m: all the input arrays must have same number of dimensions, but the array at index 0 has 2 dimension(s) and the array at index 1 has 1 dimension(s)"
     ]
    }
   ],
   "source": [
    "# Run solve following Gabriela's prescription\n",
    "sol = solve_ivp(dYdx, [x0,9], y0, args=(model,), atol = 10**(-12), rtol = 10**(-12), method='BDF', \n",
    "                t_eval=np.geomspace(x0,9,50))\n",
    "y = sol.y[:]\n",
    "x = sol.t[:]\n",
    "sol = solve_ivp(dYdx, [sol.t[-1],11], sol.y[:,-1], args=(model,), atol = 10**(-12), rtol = 10**(-12), method='LSODA', max_step = 0.08,\n",
    "                t_eval=np.geomspace(9,11,50))\n",
    "y = np.hstack((y,sol.y))\n",
    "x = np.hstack((x,sol.t))\n",
    "sol = solve_ivp(dYdx, [sol.t[-1],28], sol.y[:,-1], args=(model,), atol = 10**(-13), rtol = 10**(-13), method='LSODA', max_step = 0.08,\n",
    "                t_eval=np.geomspace(11,28,50))\n",
    "y = np.hstack((y,sol.y))\n",
    "x = np.hstack((x,sol.t))\n",
    "sol = solve_ivp(dYdx, [sol.t[-1],xf], sol.y[:,-1], args=(model,), atol = 10**(-12), rtol = 10**(-12), method='LSODA', max_step = 0.04,\n",
    "                t_eval=np.geomspace(28,xf,50))\n",
    "y = np.hstack((y,sol.y))\n",
    "x = np.hstack((x,sol.t))"
   ]
  },
  {
   "cell_type": "code",
   "execution_count": null,
   "metadata": {},
   "outputs": [],
   "source": [
    "x_sol = x\n",
    "y_sol = y"
   ]
  },
  {
   "cell_type": "code",
   "execution_count": null,
   "metadata": {},
   "outputs": [],
   "source": [
    "# # Run solver once\n",
    "# sol = solve_ivp(dYdx, [x0,xf], y0, args=(model,), atol = atol, \n",
    "#                     rtol = rtol, method=method, t_eval=xvals)\n",
    "# x_sol = sol.t\n",
    "# y_sol = sol.y\n"
   ]
  },
  {
   "cell_type": "code",
   "execution_count": null,
   "metadata": {},
   "outputs": [],
   "source": [
    "# fig = plt.figure(figsize=(10,8))\n",
    "plt.plot(x,y[1,:], 'r', linewidth=2, label = r'$Y_{med}$')\n",
    "plt.plot(x_sol,y_sol[1,:], 'r', linewidth=2, label = r'$Y_{med}$',linestyle='dashed')\n",
    "\n",
    "plt.plot(x,y[2,:], 'b', linewidth=2, label = r'$Y_{\\chi}$')\n",
    "plt.plot(x_sol,y_sol[2,:], 'b', linewidth=2, label = r'$Y_{\\chi}$',linestyle='dashed')\n",
    "\n",
    "plt.xlabel(r'$x = m_{\\chi}/T$')\n",
    "plt.ylabel('Yield')\n",
    "\n",
    "plt.xscale('log')\n",
    "plt.yscale('log')\n",
    "plt.legend()\n",
    "plt.show()"
   ]
  },
  {
   "cell_type": "code",
   "execution_count": null,
   "metadata": {},
   "outputs": [],
   "source": [
    "Ytot = sum(y_sol[1:,-1])\n",
    "omh2 = 0.12*Ytot/(6.8e-13)\n",
    "print(f\"Omegah2 = {omh2:1.3f}\")"
   ]
  },
  {
   "cell_type": "code",
   "execution_count": null,
   "metadata": {},
   "outputs": [],
   "source": [
    "y_sol[:,-1]"
   ]
  },
  {
   "cell_type": "code",
   "execution_count": null,
   "metadata": {},
   "outputs": [],
   "source": []
  }
 ],
 "metadata": {
  "kernelspec": {
   "display_name": "Python 3",
   "language": "python",
   "name": "python3"
  },
  "language_info": {
   "codemirror_mode": {
    "name": "ipython",
    "version": 3
   },
   "file_extension": ".py",
   "mimetype": "text/x-python",
   "name": "python",
   "nbconvert_exporter": "python",
   "pygments_lexer": "ipython3",
   "version": "3.12.7"
  }
 },
 "nbformat": 4,
 "nbformat_minor": 2
}
