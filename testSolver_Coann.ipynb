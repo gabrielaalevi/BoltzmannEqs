{
 "cells": [
  {
   "cell_type": "code",
   "execution_count": 1,
   "metadata": {},
   "outputs": [],
   "source": [
    "from tools.modelData import ModelData\n",
    "from boltz.boltzmannEq import dYdx, computeCollisionTerms,computeDecayTerms\n",
    "from scipy.integrate import solve_ivp\n",
    "import numpy as np\n",
    "from matplotlib import pyplot as plt\n",
    "from tools.configParserWrapper import ConfigParserExt\n",
    "import os\n",
    "from tools.logger import setLogLevel"
   ]
  },
  {
   "cell_type": "markdown",
   "metadata": {},
   "source": [
    "### Load input parameters"
   ]
  },
  {
   "cell_type": "code",
   "execution_count": 2,
   "metadata": {},
   "outputs": [],
   "source": [
    "parfile = './input_parameters_Coann.ini'\n",
    "parser = ConfigParserExt(inline_comment_prefixes=\"#\")   \n",
    "ret = parser.read(parfile)\n",
    "parser = parser.expandLoops()[0]\n",
    "parserDict = parser.toDict(raw=False)"
   ]
  },
  {
   "cell_type": "code",
   "execution_count": 3,
   "metadata": {},
   "outputs": [],
   "source": [
    "pars = parser['SolverParameters']\n",
    "atol = pars['atol']\n",
    "rtol = pars['rtol']\n",
    "T0 = pars['T0']\n",
    "Tf = pars['Tf']\n",
    "method = pars['method']\n",
    "nsteps = pars['nsteps']\n",
    "outputFolder = os.path.abspath(parser['Options']['outputFolder'])\n",
    "paramCard = os.path.join(outputFolder,'Cards','param_card.dat')\n",
    "sigmaVFile = os.path.join(outputFolder,'output','taacs.csv')\n",
    "dm = parser['Model']['darkmatter']\n",
    "bsmList = []\n",
    "if 'bsmParticles' in parser['Model']:\n",
    "    bsmList = str(parser['Model']['bsmParticles']).split(',')\n",
    "model = ModelData(dmPDG=dm, bsmPDGList=bsmList, paramCard=paramCard, sigmaVfile=sigmaVFile)\n",
    "    \n",
    "\n",
    "compDict = model.componentsDict\n",
    "mDM = compDict[model.dmPDG].mass\n",
    "x0 = mDM/T0\n",
    "xf = mDM/Tf  \n",
    "xvals = np.geomspace(x0,xf,1000)  \n"
   ]
  },
  {
   "cell_type": "code",
   "execution_count": 4,
   "metadata": {},
   "outputs": [],
   "source": [
    "# Set initila conditions\n",
    "y0 = np.array([comp.Yeq(T0) for comp in compDict.values()])    \n",
    "if 'initialConditions' in pars:\n",
    "    # Set initila conditions\n",
    "    initialCond = pars['initialConditions']    \n",
    "    for label,comp_y0 in initialCond.items():\n",
    "        pdg = model.convert2PDG(label)\n",
    "        comp = compDict[pdg]            \n",
    "        if isinstance(comp_y0,float):\n",
    "            y0[comp.ID] = y0\n",
    "        elif comp_y0.lower() in ['eq', 'equilibrium']:\n",
    "            continue # Already set\n"
   ]
  },
  {
   "cell_type": "markdown",
   "metadata": {},
   "source": [
    "### Check terms in initial conditions"
   ]
  },
  {
   "cell_type": "code",
   "execution_count": 5,
   "metadata": {},
   "outputs": [
    {
     "name": "stdout",
     "output_type": "stream",
     "text": [
      "SM 0.27765663383153705 0.27765663383153705\n",
      "b1 0.0047795420325673224 0.0047795420325673224\n",
      "xd 0.003285180006075621 0.003285180006075621\n"
     ]
    }
   ],
   "source": [
    "for comp in compDict.values():\n",
    "    print(comp,y0[comp.ID],comp.Yeq(mDM/x0))"
   ]
  },
  {
   "cell_type": "code",
   "execution_count": 6,
   "metadata": {},
   "outputs": [
    {
     "name": "stdout",
     "output_type": "stream",
     "text": [
      "[{}, {'b1xd_gb': np.float64(0.0), 'b1xxdx_gbx': np.float64(0.0), 'b1xd_ab': np.float64(0.0), 'b1xxdx_abx': np.float64(0.0), 'b1xd_bz': np.float64(0.0), 'b1xxdx_bxz': np.float64(0.0), 'b1xd_twm': np.float64(0.0), 'b1xxdx_txwp': np.float64(0.0), 'b1b1x_bbx': np.float64(0.0), 'b1b1_bb': np.float64(0.0), 'b1xb1x_bxbx': np.float64(0.0), 'b1b1x_gg': np.float64(0.0), 'b1b1x_wpwm': np.float64(0.0), 'b1b1x_ga': np.float64(0.0), 'b1b1x_gz': np.float64(0.0), 'b1b1x_aa': np.float64(0.0), 'b1b1x_az': np.float64(0.0), 'b1b1x_ddx': np.float64(0.0), 'b1b1x_uux': np.float64(0.0), 'b1b1x_ssx': np.float64(0.0), 'b1b1x_ccx': np.float64(0.0), 'b1b1x_ttx': np.float64(0.0), 'b1b1x_zz': np.float64(0.0), 'b1b1x_emep': np.float64(0.0), 'b1b1x_tamtap': np.float64(0.0), 'b1b1x_vevex': np.float64(0.0), 'b1b1x_zh': np.float64(0.0)}, {'xdxdx_ddx': np.float64(0.0), 'xdxdx_uux': np.float64(0.0), 'xdxdx_ssx': np.float64(0.0), 'xdxdx_ccx': np.float64(0.0), 'xdxdx_bbx': np.float64(0.0), 'xdxdx_ttx': np.float64(0.0), 'b1xd_gb': np.float64(0.0), 'b1xxdx_gbx': np.float64(0.0), 'b1xd_ab': np.float64(0.0), 'b1xxdx_abx': np.float64(0.0), 'b1xd_bz': np.float64(0.0), 'b1xxdx_bxz': np.float64(0.0), 'b1xd_twm': np.float64(0.0), 'b1xxdx_txwp': np.float64(0.0)}]\n",
      "[[0. 0. 0.]\n",
      " [0. 0. 0.]\n",
      " [0. 0. 0.]]\n"
     ]
    }
   ],
   "source": [
    "coll = computeCollisionTerms(x0,y0,model)\n",
    "dec = computeDecayTerms(x0,y0,model)\n",
    "print(coll)\n",
    "print(dec)"
   ]
  },
  {
   "cell_type": "code",
   "execution_count": 7,
   "metadata": {},
   "outputs": [],
   "source": [
    "# for process in model.collisionProcesses:\n",
    "#     sigma = process.sigmaV(x0)\n",
    "#     print(f'Process {process.name} : sigmav = {sigma}')"
   ]
  },
  {
   "cell_type": "code",
   "execution_count": 8,
   "metadata": {},
   "outputs": [
    {
     "name": "stdout",
     "output_type": "stream",
     "text": [
      "[0. 0. 0.]\n"
     ]
    }
   ],
   "source": [
    "print(dYdx(x0,y0,model))"
   ]
  },
  {
   "cell_type": "markdown",
   "metadata": {},
   "source": [
    "### Solve equations"
   ]
  },
  {
   "cell_type": "code",
   "execution_count": 9,
   "metadata": {},
   "outputs": [],
   "source": [
    "# Run solve following Gabriela's prescription\n",
    "sol = solve_ivp(dYdx, [x0,9], y0, args=(model,), atol = 10**(-12), rtol = 10**(-12), method='BDF', \n",
    "                t_eval=np.geomspace(x0,9,50))\n",
    "y = sol.y[:]\n",
    "x = sol.t[:]\n",
    "sol = solve_ivp(dYdx, [sol.t[-1],11], sol.y[:,-1], args=(model,), atol = 10**(-12), rtol = 10**(-12), method='LSODA', max_step = 0.08,\n",
    "                t_eval=np.geomspace(9,11,50))\n",
    "y = np.hstack((y,sol.y))\n",
    "x = np.hstack((x,sol.t))\n",
    "sol = solve_ivp(dYdx, [sol.t[-1],28], sol.y[:,-1], args=(model,), atol = 10**(-13), rtol = 10**(-13), method='LSODA', max_step = 0.08,\n",
    "                t_eval=np.geomspace(11,28,50))\n",
    "y = np.hstack((y,sol.y))\n",
    "x = np.hstack((x,sol.t))\n",
    "sol = solve_ivp(dYdx, [sol.t[-1],xf], sol.y[:,-1], args=(model,), atol = 10**(-12), rtol = 10**(-12), method='LSODA', max_step = 0.04,\n",
    "                t_eval=np.geomspace(28,xf,50))\n",
    "y = np.hstack((y,sol.y))\n",
    "x = np.hstack((x,sol.t))"
   ]
  },
  {
   "cell_type": "code",
   "execution_count": 10,
   "metadata": {},
   "outputs": [],
   "source": [
    "# Run solver once\n",
    "sol = solve_ivp(dYdx, [x0,xf], y0, args=(model,), atol = atol, \n",
    "                    rtol = rtol, method=method, t_eval=xvals)\n",
    "x_sol = sol.t\n",
    "y_sol = sol.y"
   ]
  },
  {
   "cell_type": "code",
   "execution_count": 11,
   "metadata": {},
   "outputs": [
    {
     "data": {
      "image/png": "[encoded data removed]",
      "text/plain": [
       "<Figure size 640x480 with 1 Axes>"
      ]
     },
     "metadata": {},
     "output_type": "display_data"
    }
   ],
   "source": [
    "# fig = plt.figure(figsize=(10,8))\n",
    "plt.plot(x,y[1,:], 'r', linewidth=2, label = r'$Y_{med}$')\n",
    "plt.plot(x_sol,y_sol[1,:], 'r', linewidth=2, label = r'$Y_{med}$',linestyle='dashed')\n",
    "\n",
    "plt.plot(x,y[2,:], 'b', linewidth=2, label = r'$Y_{\\chi}$')\n",
    "plt.plot(x_sol,y_sol[2,:], 'b', linewidth=2, label = r'$Y_{\\chi}$',linestyle='dashed')\n",
    "\n",
    "plt.xlabel(r'$x = m_{\\chi}/T$')\n",
    "plt.ylabel('Yield')\n",
    "\n",
    "plt.xscale('log')\n",
    "plt.yscale('log')\n",
    "plt.legend()\n",
    "plt.show()"
   ]
  }
 ],
 "metadata": {
  "kernelspec": {
   "display_name": "Python 3",
   "language": "python",
   "name": "python3"
  },
  "language_info": {
   "codemirror_mode": {
    "name": "ipython",
    "version": 3
   },
   "file_extension": ".py",
   "mimetype": "text/x-python",
   "name": "python",
   "nbconvert_exporter": "python",
   "pygments_lexer": "ipython3",
   "version": "3.12.3"
  }
 },
 "nbformat": 4,
 "nbformat_minor": 2
}
